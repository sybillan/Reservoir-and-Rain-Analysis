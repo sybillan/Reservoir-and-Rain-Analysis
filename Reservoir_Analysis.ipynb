{
 "cells": [
  {
   "cell_type": "code",
   "execution_count": 1,
   "metadata": {
    "collapsed": false
   },
   "outputs": [],
   "source": [
    "import graphlab\n"
   ]
  },
  {
   "cell_type": "markdown",
   "metadata": {},
   "source": [
    "## Loading Reservoir dataset"
   ]
  },
  {
   "cell_type": "code",
   "execution_count": 2,
   "metadata": {
    "collapsed": false
   },
   "outputs": [
    {
     "name": "stdout",
     "output_type": "stream",
     "text": [
      "This non-commercial license of GraphLab Create for academic use is assigned to erseph@gmail.com and will expire on October 13, 2018.\n"
     ]
    },
    {
     "name": "stderr",
     "output_type": "stream",
     "text": [
      "[INFO] graphlab.cython.cy_server: GraphLab Create v2.1 started. Logging: C:\\Users\\aarth\\AppData\\Local\\Temp\\graphlab_server_1510584057.log.0\n"
     ]
    },
    {
     "data": {
      "text/html": [
       "<pre>Finished parsing file C:\\Users\\aarth\\Downloads\\Git\\Reservoir and Rain Analysis\\DamData.csv</pre>"
      ],
      "text/plain": [
       "Finished parsing file C:\\Users\\aarth\\Downloads\\Git\\Reservoir and Rain Analysis\\DamData.csv"
      ]
     },
     "metadata": {},
     "output_type": "display_data"
    },
    {
     "data": {
      "text/html": [
       "<pre>Parsing completed. Parsed 100 lines in 0.037538 secs.</pre>"
      ],
      "text/plain": [
       "Parsing completed. Parsed 100 lines in 0.037538 secs."
      ]
     },
     "metadata": {},
     "output_type": "display_data"
    },
    {
     "name": "stdout",
     "output_type": "stream",
     "text": [
      "------------------------------------------------------\n",
      "Inferred types from first 100 line(s) of file as \n",
      "column_type_hints=[str,str,float,long,float,long,long,long,long,long]\n",
      "If parsing fails due to incorrect types, you can correct\n",
      "the inferred type list above and pass it to read_csv in\n",
      "the column_type_hints argument\n",
      "------------------------------------------------------\n"
     ]
    },
    {
     "data": {
      "text/html": [
       "<pre>Finished parsing file C:\\Users\\aarth\\Downloads\\Git\\Reservoir and Rain Analysis\\DamData.csv</pre>"
      ],
      "text/plain": [
       "Finished parsing file C:\\Users\\aarth\\Downloads\\Git\\Reservoir and Rain Analysis\\DamData.csv"
      ]
     },
     "metadata": {},
     "output_type": "display_data"
    },
    {
     "data": {
      "text/html": [
       "<pre>Parsing completed. Parsed 605 lines in 0.046845 secs.</pre>"
      ],
      "text/plain": [
       "Parsing completed. Parsed 605 lines in 0.046845 secs."
      ]
     },
     "metadata": {},
     "output_type": "display_data"
    }
   ],
   "source": [
    "Damdata= graphlab.SFrame('DamData.csv')"
   ]
  },
  {
   "cell_type": "markdown",
   "metadata": {},
   "source": [
    "## Exploring SFrame"
   ]
  },
  {
   "cell_type": "code",
   "execution_count": 3,
   "metadata": {
    "collapsed": false
   },
   "outputs": [
    {
     "data": {
      "text/html": [
       "<div style=\"max-height:1000px;max-width:1500px;overflow:auto;\"><table frame=\"box\" rules=\"cols\">\n",
       "    <tr>\n",
       "        <th style=\"padding-left: 1em; padding-right: 1em; text-align: center\">Date</th>\n",
       "        <th style=\"padding-left: 1em; padding-right: 1em; text-align: center\">Reservoir</th>\n",
       "        <th style=\"padding-left: 1em; padding-right: 1em; text-align: center\">Full Tank Level (ft)</th>\n",
       "        <th style=\"padding-left: 1em; padding-right: 1em; text-align: center\">Full Capacity mcft</th>\n",
       "        <th style=\"padding-left: 1em; padding-right: 1em; text-align: center\">Level (ft)</th>\n",
       "        <th style=\"padding-left: 1em; padding-right: 1em; text-align: center\">Storage Mcft</th>\n",
       "        <th style=\"padding-left: 1em; padding-right: 1em; text-align: center\">Inflow (cusecs)</th>\n",
       "    </tr>\n",
       "    <tr>\n",
       "        <td style=\"padding-left: 1em; padding-right: 1em; text-align: center; vertical-align: top\">01-11-2005</td>\n",
       "        <td style=\"padding-left: 1em; padding-right: 1em; text-align: center; vertical-align: top\">CHEMBARAMBAKKAM</td>\n",
       "        <td style=\"padding-left: 1em; padding-right: 1em; text-align: center; vertical-align: top\">85.4</td>\n",
       "        <td style=\"padding-left: 1em; padding-right: 1em; text-align: center; vertical-align: top\">3645</td>\n",
       "        <td style=\"padding-left: 1em; padding-right: 1em; text-align: center; vertical-align: top\">74.8</td>\n",
       "        <td style=\"padding-left: 1em; padding-right: 1em; text-align: center; vertical-align: top\">1259</td>\n",
       "        <td style=\"padding-left: 1em; padding-right: 1em; text-align: center; vertical-align: top\">278</td>\n",
       "    </tr>\n",
       "    <tr>\n",
       "        <td style=\"padding-left: 1em; padding-right: 1em; text-align: center; vertical-align: top\">02-11-2005</td>\n",
       "        <td style=\"padding-left: 1em; padding-right: 1em; text-align: center; vertical-align: top\">CHEMBARAMBAKKAM</td>\n",
       "        <td style=\"padding-left: 1em; padding-right: 1em; text-align: center; vertical-align: top\">85.4</td>\n",
       "        <td style=\"padding-left: 1em; padding-right: 1em; text-align: center; vertical-align: top\">3645</td>\n",
       "        <td style=\"padding-left: 1em; padding-right: 1em; text-align: center; vertical-align: top\">74.85</td>\n",
       "        <td style=\"padding-left: 1em; padding-right: 1em; text-align: center; vertical-align: top\">1259</td>\n",
       "        <td style=\"padding-left: 1em; padding-right: 1em; text-align: center; vertical-align: top\">0</td>\n",
       "    </tr>\n",
       "    <tr>\n",
       "        <td style=\"padding-left: 1em; padding-right: 1em; text-align: center; vertical-align: top\">03-11-2005</td>\n",
       "        <td style=\"padding-left: 1em; padding-right: 1em; text-align: center; vertical-align: top\">CHEMBARAMBAKKAM</td>\n",
       "        <td style=\"padding-left: 1em; padding-right: 1em; text-align: center; vertical-align: top\">85.4</td>\n",
       "        <td style=\"padding-left: 1em; padding-right: 1em; text-align: center; vertical-align: top\">3645</td>\n",
       "        <td style=\"padding-left: 1em; padding-right: 1em; text-align: center; vertical-align: top\">74.9</td>\n",
       "        <td style=\"padding-left: 1em; padding-right: 1em; text-align: center; vertical-align: top\">1268</td>\n",
       "        <td style=\"padding-left: 1em; padding-right: 1em; text-align: center; vertical-align: top\">104</td>\n",
       "    </tr>\n",
       "    <tr>\n",
       "        <td style=\"padding-left: 1em; padding-right: 1em; text-align: center; vertical-align: top\">04-11-2005</td>\n",
       "        <td style=\"padding-left: 1em; padding-right: 1em; text-align: center; vertical-align: top\">CHEMBARAMBAKKAM</td>\n",
       "        <td style=\"padding-left: 1em; padding-right: 1em; text-align: center; vertical-align: top\">85.4</td>\n",
       "        <td style=\"padding-left: 1em; padding-right: 1em; text-align: center; vertical-align: top\">3645</td>\n",
       "        <td style=\"padding-left: 1em; padding-right: 1em; text-align: center; vertical-align: top\">75.0</td>\n",
       "        <td style=\"padding-left: 1em; padding-right: 1em; text-align: center; vertical-align: top\">1284</td>\n",
       "        <td style=\"padding-left: 1em; padding-right: 1em; text-align: center; vertical-align: top\">185</td>\n",
       "    </tr>\n",
       "    <tr>\n",
       "        <td style=\"padding-left: 1em; padding-right: 1em; text-align: center; vertical-align: top\">05-11-2005</td>\n",
       "        <td style=\"padding-left: 1em; padding-right: 1em; text-align: center; vertical-align: top\">CHEMBARAMBAKKAM</td>\n",
       "        <td style=\"padding-left: 1em; padding-right: 1em; text-align: center; vertical-align: top\">85.4</td>\n",
       "        <td style=\"padding-left: 1em; padding-right: 1em; text-align: center; vertical-align: top\">3645</td>\n",
       "        <td style=\"padding-left: 1em; padding-right: 1em; text-align: center; vertical-align: top\">75.15</td>\n",
       "        <td style=\"padding-left: 1em; padding-right: 1em; text-align: center; vertical-align: top\">1310</td>\n",
       "        <td style=\"padding-left: 1em; padding-right: 1em; text-align: center; vertical-align: top\">301</td>\n",
       "    </tr>\n",
       "    <tr>\n",
       "        <td style=\"padding-left: 1em; padding-right: 1em; text-align: center; vertical-align: top\">06-11-2005</td>\n",
       "        <td style=\"padding-left: 1em; padding-right: 1em; text-align: center; vertical-align: top\">CHEMBARAMBAKKAM</td>\n",
       "        <td style=\"padding-left: 1em; padding-right: 1em; text-align: center; vertical-align: top\">85.4</td>\n",
       "        <td style=\"padding-left: 1em; padding-right: 1em; text-align: center; vertical-align: top\">3645</td>\n",
       "        <td style=\"padding-left: 1em; padding-right: 1em; text-align: center; vertical-align: top\">75.5</td>\n",
       "        <td style=\"padding-left: 1em; padding-right: 1em; text-align: center; vertical-align: top\">1371</td>\n",
       "        <td style=\"padding-left: 1em; padding-right: 1em; text-align: center; vertical-align: top\">706</td>\n",
       "    </tr>\n",
       "    <tr>\n",
       "        <td style=\"padding-left: 1em; padding-right: 1em; text-align: center; vertical-align: top\">07-11-2005</td>\n",
       "        <td style=\"padding-left: 1em; padding-right: 1em; text-align: center; vertical-align: top\">CHEMBARAMBAKKAM</td>\n",
       "        <td style=\"padding-left: 1em; padding-right: 1em; text-align: center; vertical-align: top\">85.4</td>\n",
       "        <td style=\"padding-left: 1em; padding-right: 1em; text-align: center; vertical-align: top\">3645</td>\n",
       "        <td style=\"padding-left: 1em; padding-right: 1em; text-align: center; vertical-align: top\">77.5</td>\n",
       "        <td style=\"padding-left: 1em; padding-right: 1em; text-align: center; vertical-align: top\">1739</td>\n",
       "        <td style=\"padding-left: 1em; padding-right: 1em; text-align: center; vertical-align: top\">4259</td>\n",
       "    </tr>\n",
       "    <tr>\n",
       "        <td style=\"padding-left: 1em; padding-right: 1em; text-align: center; vertical-align: top\">08-11-2005</td>\n",
       "        <td style=\"padding-left: 1em; padding-right: 1em; text-align: center; vertical-align: top\">CHEMBARAMBAKKAM</td>\n",
       "        <td style=\"padding-left: 1em; padding-right: 1em; text-align: center; vertical-align: top\">85.4</td>\n",
       "        <td style=\"padding-left: 1em; padding-right: 1em; text-align: center; vertical-align: top\">3645</td>\n",
       "        <td style=\"padding-left: 1em; padding-right: 1em; text-align: center; vertical-align: top\">79.15</td>\n",
       "        <td style=\"padding-left: 1em; padding-right: 1em; text-align: center; vertical-align: top\">2080</td>\n",
       "        <td style=\"padding-left: 1em; padding-right: 1em; text-align: center; vertical-align: top\">3900</td>\n",
       "    </tr>\n",
       "    <tr>\n",
       "        <td style=\"padding-left: 1em; padding-right: 1em; text-align: center; vertical-align: top\">09-11-2005</td>\n",
       "        <td style=\"padding-left: 1em; padding-right: 1em; text-align: center; vertical-align: top\">CHEMBARAMBAKKAM</td>\n",
       "        <td style=\"padding-left: 1em; padding-right: 1em; text-align: center; vertical-align: top\">85.4</td>\n",
       "        <td style=\"padding-left: 1em; padding-right: 1em; text-align: center; vertical-align: top\">3645</td>\n",
       "        <td style=\"padding-left: 1em; padding-right: 1em; text-align: center; vertical-align: top\">80.5</td>\n",
       "        <td style=\"padding-left: 1em; padding-right: 1em; text-align: center; vertical-align: top\">2387</td>\n",
       "        <td style=\"padding-left: 1em; padding-right: 1em; text-align: center; vertical-align: top\">3600</td>\n",
       "    </tr>\n",
       "    <tr>\n",
       "        <td style=\"padding-left: 1em; padding-right: 1em; text-align: center; vertical-align: top\">10-11-2005</td>\n",
       "        <td style=\"padding-left: 1em; padding-right: 1em; text-align: center; vertical-align: top\">CHEMBARAMBAKKAM</td>\n",
       "        <td style=\"padding-left: 1em; padding-right: 1em; text-align: center; vertical-align: top\">85.4</td>\n",
       "        <td style=\"padding-left: 1em; padding-right: 1em; text-align: center; vertical-align: top\">3645</td>\n",
       "        <td style=\"padding-left: 1em; padding-right: 1em; text-align: center; vertical-align: top\">81.35</td>\n",
       "        <td style=\"padding-left: 1em; padding-right: 1em; text-align: center; vertical-align: top\">2591</td>\n",
       "        <td style=\"padding-left: 1em; padding-right: 1em; text-align: center; vertical-align: top\">2400</td>\n",
       "    </tr>\n",
       "</table>\n",
       "<table frame=\"box\" rules=\"cols\">\n",
       "    <tr>\n",
       "        <th style=\"padding-left: 1em; padding-right: 1em; text-align: center\">Outflow (cusecs)</th>\n",
       "        <th style=\"padding-left: 1em; padding-right: 1em; text-align: center\">Rainfall (mm)</th>\n",
       "        <th style=\"padding-left: 1em; padding-right: 1em; text-align: center\">Storage as on same day<br>last year (mcft) ...</th>\n",
       "    </tr>\n",
       "    <tr>\n",
       "        <td style=\"padding-left: 1em; padding-right: 1em; text-align: center; vertical-align: top\">0</td>\n",
       "        <td style=\"padding-left: 1em; padding-right: 1em; text-align: center; vertical-align: top\">3</td>\n",
       "        <td style=\"padding-left: 1em; padding-right: 1em; text-align: center; vertical-align: top\">72</td>\n",
       "    </tr>\n",
       "    <tr>\n",
       "        <td style=\"padding-left: 1em; padding-right: 1em; text-align: center; vertical-align: top\">0</td>\n",
       "        <td style=\"padding-left: 1em; padding-right: 1em; text-align: center; vertical-align: top\">0</td>\n",
       "        <td style=\"padding-left: 1em; padding-right: 1em; text-align: center; vertical-align: top\">78</td>\n",
       "    </tr>\n",
       "    <tr>\n",
       "        <td style=\"padding-left: 1em; padding-right: 1em; text-align: center; vertical-align: top\">0</td>\n",
       "        <td style=\"padding-left: 1em; padding-right: 1em; text-align: center; vertical-align: top\">2</td>\n",
       "        <td style=\"padding-left: 1em; padding-right: 1em; text-align: center; vertical-align: top\">78</td>\n",
       "    </tr>\n",
       "    <tr>\n",
       "        <td style=\"padding-left: 1em; padding-right: 1em; text-align: center; vertical-align: top\">0</td>\n",
       "        <td style=\"padding-left: 1em; padding-right: 1em; text-align: center; vertical-align: top\">7</td>\n",
       "        <td style=\"padding-left: 1em; padding-right: 1em; text-align: center; vertical-align: top\">78</td>\n",
       "    </tr>\n",
       "    <tr>\n",
       "        <td style=\"padding-left: 1em; padding-right: 1em; text-align: center; vertical-align: top\">0</td>\n",
       "        <td style=\"padding-left: 1em; padding-right: 1em; text-align: center; vertical-align: top\">40</td>\n",
       "        <td style=\"padding-left: 1em; padding-right: 1em; text-align: center; vertical-align: top\">78</td>\n",
       "    </tr>\n",
       "    <tr>\n",
       "        <td style=\"padding-left: 1em; padding-right: 1em; text-align: center; vertical-align: top\">0</td>\n",
       "        <td style=\"padding-left: 1em; padding-right: 1em; text-align: center; vertical-align: top\">54</td>\n",
       "        <td style=\"padding-left: 1em; padding-right: 1em; text-align: center; vertical-align: top\">101</td>\n",
       "    </tr>\n",
       "    <tr>\n",
       "        <td style=\"padding-left: 1em; padding-right: 1em; text-align: center; vertical-align: top\">0</td>\n",
       "        <td style=\"padding-left: 1em; padding-right: 1em; text-align: center; vertical-align: top\">170</td>\n",
       "        <td style=\"padding-left: 1em; padding-right: 1em; text-align: center; vertical-align: top\">170</td>\n",
       "    </tr>\n",
       "    <tr>\n",
       "        <td style=\"padding-left: 1em; padding-right: 1em; text-align: center; vertical-align: top\">0</td>\n",
       "        <td style=\"padding-left: 1em; padding-right: 1em; text-align: center; vertical-align: top\">52</td>\n",
       "        <td style=\"padding-left: 1em; padding-right: 1em; text-align: center; vertical-align: top\">250</td>\n",
       "    </tr>\n",
       "    <tr>\n",
       "        <td style=\"padding-left: 1em; padding-right: 1em; text-align: center; vertical-align: top\">0</td>\n",
       "        <td style=\"padding-left: 1em; padding-right: 1em; text-align: center; vertical-align: top\">27</td>\n",
       "        <td style=\"padding-left: 1em; padding-right: 1em; text-align: center; vertical-align: top\">284</td>\n",
       "    </tr>\n",
       "    <tr>\n",
       "        <td style=\"padding-left: 1em; padding-right: 1em; text-align: center; vertical-align: top\">0</td>\n",
       "        <td style=\"padding-left: 1em; padding-right: 1em; text-align: center; vertical-align: top\">0</td>\n",
       "        <td style=\"padding-left: 1em; padding-right: 1em; text-align: center; vertical-align: top\">292</td>\n",
       "    </tr>\n",
       "</table>\n",
       "[10 rows x 10 columns]<br/>\n",
       "</div>"
      ],
      "text/plain": [
       "Columns:\n",
       "\tDate\tstr\n",
       "\tReservoir\tstr\n",
       "\tFull Tank Level (ft)\tfloat\n",
       "\tFull Capacity mcft\tint\n",
       "\tLevel (ft)\tfloat\n",
       "\tStorage Mcft\tint\n",
       "\tInflow (cusecs)\tint\n",
       "\tOutflow (cusecs)\tint\n",
       "\tRainfall (mm)\tint\n",
       "\tStorage as on same day last year (mcft)\tint\n",
       "\n",
       "Rows: 10\n",
       "\n",
       "Data:\n",
       "+------------+-----------------+----------------------+--------------------+\n",
       "|    Date    |    Reservoir    | Full Tank Level (ft) | Full Capacity mcft |\n",
       "+------------+-----------------+----------------------+--------------------+\n",
       "| 01-11-2005 | CHEMBARAMBAKKAM |         85.4         |        3645        |\n",
       "| 02-11-2005 | CHEMBARAMBAKKAM |         85.4         |        3645        |\n",
       "| 03-11-2005 | CHEMBARAMBAKKAM |         85.4         |        3645        |\n",
       "| 04-11-2005 | CHEMBARAMBAKKAM |         85.4         |        3645        |\n",
       "| 05-11-2005 | CHEMBARAMBAKKAM |         85.4         |        3645        |\n",
       "| 06-11-2005 | CHEMBARAMBAKKAM |         85.4         |        3645        |\n",
       "| 07-11-2005 | CHEMBARAMBAKKAM |         85.4         |        3645        |\n",
       "| 08-11-2005 | CHEMBARAMBAKKAM |         85.4         |        3645        |\n",
       "| 09-11-2005 | CHEMBARAMBAKKAM |         85.4         |        3645        |\n",
       "| 10-11-2005 | CHEMBARAMBAKKAM |         85.4         |        3645        |\n",
       "+------------+-----------------+----------------------+--------------------+\n",
       "+------------+--------------+-----------------+------------------+---------------+\n",
       "| Level (ft) | Storage Mcft | Inflow (cusecs) | Outflow (cusecs) | Rainfall (mm) |\n",
       "+------------+--------------+-----------------+------------------+---------------+\n",
       "|    74.8    |     1259     |       278       |        0         |       3       |\n",
       "|   74.85    |     1259     |        0        |        0         |       0       |\n",
       "|    74.9    |     1268     |       104       |        0         |       2       |\n",
       "|    75.0    |     1284     |       185       |        0         |       7       |\n",
       "|   75.15    |     1310     |       301       |        0         |       40      |\n",
       "|    75.5    |     1371     |       706       |        0         |       54      |\n",
       "|    77.5    |     1739     |       4259      |        0         |      170      |\n",
       "|   79.15    |     2080     |       3900      |        0         |       52      |\n",
       "|    80.5    |     2387     |       3600      |        0         |       27      |\n",
       "|   81.35    |     2591     |       2400      |        0         |       0       |\n",
       "+------------+--------------+-----------------+------------------+---------------+\n",
       "+-------------------------------+\n",
       "| Storage as on same day las... |\n",
       "+-------------------------------+\n",
       "|               72              |\n",
       "|               78              |\n",
       "|               78              |\n",
       "|               78              |\n",
       "|               78              |\n",
       "|              101              |\n",
       "|              170              |\n",
       "|              250              |\n",
       "|              284              |\n",
       "|              292              |\n",
       "+-------------------------------+\n",
       "[10 rows x 10 columns]"
      ]
     },
     "execution_count": 3,
     "metadata": {},
     "output_type": "execute_result"
    }
   ],
   "source": [
    "Damdata.head()"
   ]
  },
  {
   "cell_type": "code",
   "execution_count": 6,
   "metadata": {
    "collapsed": false
   },
   "outputs": [],
   "source": [
    "graphlab.canvas.set_target('ipynb')"
   ]
  },
  {
   "cell_type": "code",
   "execution_count": 22,
   "metadata": {
    "collapsed": false
   },
   "outputs": [],
   "source": [
    "Damdata['date_obs'] = Damdata['Date'].str_to_datetime(\"%d-%m-%Y\")"
   ]
  },
  {
   "cell_type": "markdown",
   "metadata": {},
   "source": [
    "## Plot of Outflow (cusecs) against time series"
   ]
  },
  {
   "cell_type": "code",
   "execution_count": 23,
   "metadata": {
    "collapsed": false
   },
   "outputs": [
    {
     "data": {
      "application/javascript": [
       "$(\"head\").append($(\"<link/>\").attr({\n",
       "  rel:  \"stylesheet\",\n",
       "  type: \"text/css\",\n",
       "  href: \"//cdnjs.cloudflare.com/ajax/libs/font-awesome/4.1.0/css/font-awesome.min.css\"\n",
       "}));\n",
       "$(\"head\").append($(\"<link/>\").attr({\n",
       "  rel:  \"stylesheet\",\n",
       "  type: \"text/css\",\n",
       "  href: \"https://static.turi.com/products/graphlab-create/2.1/canvas/css/canvas.css\"\n",
       "}));\n",
       "\n",
       "            (function(){\n",
       "\n",
       "                var e = null;\n",
       "                if (typeof element == 'undefined') {\n",
       "                    var scripts = document.getElementsByTagName('script');\n",
       "                    var thisScriptTag = scripts[scripts.length-1];\n",
       "                    var parentDiv = thisScriptTag.parentNode;\n",
       "                    e = document.createElement('div');\n",
       "                    parentDiv.appendChild(e);\n",
       "                } else {\n",
       "                    e = element[0];\n",
       "                }\n",
       "\n",
       "                if (typeof requirejs !== 'undefined') {\n",
       "                    // disable load timeout; ipython_app.js is large and can take a while to load.\n",
       "                    requirejs.config({waitSeconds: 0});\n",
       "                }\n",
       "\n",
       "                require(['https://static.turi.com/products/graphlab-create/2.1/canvas/js/ipython_app.js'], function(IPythonApp){\n",
       "                    var app = new IPythonApp();\n",
       "                    app.attachView('sframe','Plots', {\"selected_variable\": {\"name\": [\"Damdata\"], \"descriptives\": {\"rows\": 605, \"columns\": 11}, \"view_component\": \"Plots\", \"view_file\": \"sframe\", \"view_params\": {\"y\": \"Outflow (cusecs)\", \"x\": \"date_obs\", \"columns\": [\"Date\", \"Reservoir\", \"Full Tank Level (ft)\", \"Full Capacity mcft\", \"Level (ft)\", \"Storage Mcft\", \"Inflow (cusecs)\", \"Outflow (cusecs)\", \"Rainfall (mm)\", \"Storage as on same day last year (mcft)\", \"date_obs\"], \"view\": \"Scatter Plot\"}, \"view_components\": [\"Summary\", \"Table\", \"Bar Chart\", \"BoxWhisker Plot\", \"Line Chart\", \"Scatter Plot\", \"Heat Map\", \"Plots\"], \"type\": \"SFrame\", \"columns\": [{\"dtype\": \"str\", \"name\": \"Date\"}, {\"dtype\": \"str\", \"name\": \"Reservoir\"}, {\"dtype\": \"float\", \"name\": \"Full Tank Level (ft)\"}, {\"dtype\": \"int\", \"name\": \"Full Capacity mcft\"}, {\"dtype\": \"float\", \"name\": \"Level (ft)\"}, {\"dtype\": \"int\", \"name\": \"Storage Mcft\"}, {\"dtype\": \"int\", \"name\": \"Inflow (cusecs)\"}, {\"dtype\": \"int\", \"name\": \"Outflow (cusecs)\"}, {\"dtype\": \"int\", \"name\": \"Rainfall (mm)\"}, {\"dtype\": \"int\", \"name\": \"Storage as on same day last year (mcft)\"}, {\"dtype\": \"datetime\", \"name\": \"date_obs\"}], \"column_identifiers\": [\"Storage as on same day last year (mcft)\", \"date_obs\", \"Reservoir\", \"Level (ft)\", \"Outflow (cusecs)\", \"Full Tank Level (ft)\", \"Storage Mcft\", \"Inflow (cusecs)\", \"Date\", \"Rainfall (mm)\", \"Full Capacity mcft\"]}, \"complete\": 1, \"ipython\": true, \"progress\": 1.0, \"data\": [[\"2005-11-01T00:00:00\", 0], [\"2005-11-02T00:00:00\", 0], [\"2005-11-03T00:00:00\", 0], [\"2005-11-04T00:00:00\", 0], [\"2005-11-05T00:00:00\", 0], [\"2005-11-06T00:00:00\", 0], [\"2005-11-07T00:00:00\", 0], [\"2005-11-08T00:00:00\", 0], [\"2005-11-09T00:00:00\", 0], [\"2005-11-10T00:00:00\", 0], [\"2005-11-11T00:00:00\", 0], [\"2005-11-12T00:00:00\", 0], [\"2005-11-13T00:00:00\", 0], [\"2005-11-14T00:00:00\", 0], [\"2005-11-15T00:00:00\", 0], [\"2005-11-16T00:00:00\", 0], [\"2005-11-17T00:00:00\", 0], [\"2005-11-18T00:00:00\", 0], [\"2005-11-19T00:00:00\", 0], [\"2005-11-20T00:00:00\", 0], [\"2005-11-21T00:00:00\", 0], [\"2005-11-22T00:00:00\", 0], [\"2005-11-23T00:00:00\", 1600], [\"2005-11-24T00:00:00\", 3500], [\"2005-11-25T00:00:00\", 3500], [\"2005-11-26T00:00:00\", 4500], [\"2005-11-27T00:00:00\", 2500], [\"2005-11-28T00:00:00\", 2000], [\"2005-11-29T00:00:00\", 500], [\"2005-11-30T00:00:00\", 500], [\"2005-12-01T00:00:00\", 0], [\"2005-12-02T00:00:00\", 0], [\"2005-12-03T00:00:00\", 10000], [\"2005-12-04T00:00:00\", 12000], [\"2005-12-05T00:00:00\", 11000], [\"2005-12-06T00:00:00\", 4500], [\"2005-12-07T00:00:00\", 2500], [\"2005-12-08T00:00:00\", 1500], [\"2005-12-09T00:00:00\", 2500], [\"2005-12-10T00:00:00\", 500], [\"2005-12-11T00:00:00\", 0], [\"2005-12-12T00:00:00\", 0], [\"2005-12-13T00:00:00\", 0], [\"2005-12-14T00:00:00\", 4000], [\"2005-12-15T00:00:00\", 2000], [\"2005-12-16T00:00:00\", 1500], [\"2005-12-17T00:00:00\", 1000], [\"2005-12-18T00:00:00\", 1000], [\"2005-12-19T00:00:00\", 5000], [\"2005-12-20T00:00:00\", 700], [\"2005-12-21T00:00:00\", 0], [\"2005-12-22T00:00:00\", 0], [\"2005-12-23T00:00:00\", 0], [\"2005-12-24T00:00:00\", 0], [\"2005-12-25T00:00:00\", 0], [\"2005-12-26T00:00:00\", 0], [\"2005-12-27T00:00:00\", 0], [\"2005-12-28T00:00:00\", 0], [\"2005-12-29T00:00:00\", 0], [\"2005-12-30T00:00:00\", 0], [\"2005-12-31T00:00:00\", 0], [\"2008-11-01T00:00:00\", 70], [\"2008-11-02T00:00:00\", 70], [\"2008-11-03T00:00:00\", 70], [\"2008-11-04T00:00:00\", 70], [\"2008-11-05T00:00:00\", 70], [\"2008-11-06T00:00:00\", 70], [\"2008-11-07T00:00:00\", 70], [\"2008-11-08T00:00:00\", 70], [\"2008-11-09T00:00:00\", 70], [\"2008-11-10T00:00:00\", 70], [\"2008-11-11T00:00:00\", 70], [\"2008-11-12T00:00:00\", 70], [\"2008-11-13T00:00:00\", 70], [\"2008-11-14T00:00:00\", 70], [\"2008-11-15T00:00:00\", 70], [\"2008-11-16T00:00:00\", 70], [\"2008-11-17T00:00:00\", 70], [\"2008-11-18T00:00:00\", 70], [\"2008-11-19T00:00:00\", 70], [\"2008-11-20T00:00:00\", 70], [\"2008-11-21T00:00:00\", 70], [\"2008-11-22T00:00:00\", 70], [\"2008-11-23T00:00:00\", 70], [\"2008-11-24T00:00:00\", 70], [\"2008-11-25T00:00:00\", 70], [\"2008-11-26T00:00:00\", 70], [\"2008-11-27T00:00:00\", 70], [\"2008-11-28T00:00:00\", 8000], [\"2008-11-29T00:00:00\", 4000], [\"2008-11-30T00:00:00\", 3000], [\"2008-12-01T00:00:00\", 2000], [\"2008-12-02T00:00:00\", 700], [\"2008-12-03T00:00:00\", 300], [\"2008-12-04T00:00:00\", 70], [\"2008-12-05T00:00:00\", 70], [\"2008-12-06T00:00:00\", 300], [\"2008-12-07T00:00:00\", 300], [\"2008-12-08T00:00:00\", 800], [\"2008-12-09T00:00:00\", 70], [\"2008-12-10T00:00:00\", 70], [\"2008-12-11T00:00:00\", 70], [\"2008-12-12T00:00:00\", 80], [\"2008-12-13T00:00:00\", 80], [\"2008-12-14T00:00:00\", 80], [\"2008-12-15T00:00:00\", 80], [\"2008-12-16T00:00:00\", 80], [\"2008-12-17T00:00:00\", 80], [\"2008-12-18T00:00:00\", 80], [\"2008-12-19T00:00:00\", 80], [\"2008-12-20T00:00:00\", 80], [\"2008-12-21T00:00:00\", 80], [\"2008-12-22T00:00:00\", 80], [\"2008-12-23T00:00:00\", 80], [\"2008-12-24T00:00:00\", 80], [\"2008-12-25T00:00:00\", 80], [\"2008-12-26T00:00:00\", 80], [\"2008-12-27T00:00:00\", 80], [\"2008-12-28T00:00:00\", 80], [\"2008-12-29T00:00:00\", 80], [\"2008-12-30T00:00:00\", 80], [\"2008-12-31T00:00:00\", 80], [\"2009-11-01T00:00:00\", 70], [\"2009-11-02T00:00:00\", 70], [\"2009-11-03T00:00:00\", 70], [\"2009-11-04T00:00:00\", 70], [\"2009-11-05T00:00:00\", 60], [\"2009-11-06T00:00:00\", 60], [\"2009-11-07T00:00:00\", 60], [\"2009-11-08T00:00:00\", 60], [\"2009-11-09T00:00:00\", 60], [\"2009-11-10T00:00:00\", 60], [\"2009-11-11T00:00:00\", 60], [\"2009-11-12T00:00:00\", 60], [\"2009-11-13T00:00:00\", 60], [\"2009-11-14T00:00:00\", 60], [\"2009-11-15T00:00:00\", 60], [\"2009-11-16T00:00:00\", 60], [\"2009-11-17T00:00:00\", 60], [\"2009-11-18T00:00:00\", 60], [\"2009-11-19T00:00:00\", 60], [\"2009-11-20T00:00:00\", 60], [\"2009-11-21T00:00:00\", 60], [\"2009-11-22T00:00:00\", 60], [\"2009-11-23T00:00:00\", 60], [\"2009-11-24T00:00:00\", 60], [\"2009-11-25T00:00:00\", 60], [\"2009-11-26T00:00:00\", 60], [\"2009-11-27T00:00:00\", 60], [\"2009-11-28T00:00:00\", 60], [\"2009-11-29T00:00:00\", 60], [\"2009-11-30T00:00:00\", 60], [\"2009-12-01T00:00:00\", 60], [\"2009-12-02T00:00:00\", 60], [\"2009-12-03T00:00:00\", 60], [\"2009-12-04T00:00:00\", 60], [\"2009-12-05T00:00:00\", 60], [\"2009-12-06T00:00:00\", 60], [\"2009-12-07T00:00:00\", 60], [\"2009-12-08T00:00:00\", 60], [\"2009-12-09T00:00:00\", 60], [\"2009-12-10T00:00:00\", 70], [\"2009-12-11T00:00:00\", 70], [\"2009-12-12T00:00:00\", 70], [\"2009-12-13T00:00:00\", 70], [\"2009-12-14T00:00:00\", 70], [\"2009-12-15T00:00:00\", 70], [\"2009-12-16T00:00:00\", 70], [\"2009-12-17T00:00:00\", 70], [\"2009-12-18T00:00:00\", 70], [\"2009-12-19T00:00:00\", 70], [\"2009-12-20T00:00:00\", 70], [\"2009-12-21T00:00:00\", 70], [\"2009-12-22T00:00:00\", 60], [\"2009-12-23T00:00:00\", 60], [\"2009-12-24T00:00:00\", 60], [\"2009-12-25T00:00:00\", 60], [\"2009-12-26T00:00:00\", 60], [\"2009-12-27T00:00:00\", 60], [\"2009-12-28T00:00:00\", 60], [\"2009-12-29T00:00:00\", 60], [\"2009-12-30T00:00:00\", 60], [\"2009-12-31T00:00:00\", 60], [\"2010-11-01T00:00:00\", 93], [\"2010-11-02T00:00:00\", 93], [\"2010-11-03T00:00:00\", 93], [\"2010-11-04T00:00:00\", 93], [\"2010-11-05T00:00:00\", 93], [\"2010-11-06T00:00:00\", 93], [\"2010-11-07T00:00:00\", 93], [\"2010-11-08T00:00:00\", 93], [\"2010-11-09T00:00:00\", 93], [\"2010-11-10T00:00:00\", 93], [\"2010-11-11T00:00:00\", 93], [\"2010-11-12T00:00:00\", 93], [\"2010-11-13T00:00:00\", 93], [\"2010-11-14T00:00:00\", 93], [\"2010-11-15T00:00:00\", 93], [\"2010-11-16T00:00:00\", 93], [\"2010-11-17T00:00:00\", 93], [\"2010-11-18T00:00:00\", 93], [\"2010-11-19T00:00:00\", 93], [\"2010-11-20T00:00:00\", 93], [\"2010-11-21T00:00:00\", 93], [\"2010-11-22T00:00:00\", 93], [\"2010-11-23T00:00:00\", 93], [\"2010-11-24T00:00:00\", 93], [\"2010-11-25T00:00:00\", 93], [\"2010-11-26T00:00:00\", 93], [\"2010-11-27T00:00:00\", 93], [\"2010-11-28T00:00:00\", 93], [\"2010-11-29T00:00:00\", 93], [\"2010-11-30T00:00:00\", 93], [\"2010-12-01T00:00:00\", 93], [\"2010-12-02T00:00:00\", 93], [\"2010-12-03T00:00:00\", 93], [\"2010-12-04T00:00:00\", 93], [\"2010-12-05T00:00:00\", 93], [\"2010-12-06T00:00:00\", 93], [\"2010-12-07T00:00:00\", 93], [\"2010-12-08T00:00:00\", 1093], [\"2010-12-09T00:00:00\", 193], [\"2010-12-10T00:00:00\", 193], [\"2010-12-11T00:00:00\", 643], [\"2010-12-12T00:00:00\", 193], [\"2010-12-13T00:00:00\", 93], [\"2010-12-14T00:00:00\", 93], [\"2010-12-15T00:00:00\", 93], [\"2010-12-16T00:00:00\", 93], [\"2010-12-17T00:00:00\", 93], [\"2010-12-18T00:00:00\", 93], [\"2010-12-19T00:00:00\", 93], [\"2010-12-20T00:00:00\", 93], [\"2010-12-21T00:00:00\", 93], [\"2010-12-22T00:00:00\", 93], [\"2010-12-23T00:00:00\", 93], [\"2010-12-24T00:00:00\", 93], [\"2010-12-25T00:00:00\", 93], [\"2010-12-26T00:00:00\", 110], [\"2010-12-27T00:00:00\", 110], [\"2010-12-28T00:00:00\", 110], [\"2010-12-29T00:00:00\", 110], [\"2010-12-30T00:00:00\", 110], [\"2010-12-31T00:00:00\", 110], [\"2011-11-01T00:00:00\", 150], [\"2011-11-02T00:00:00\", 150], [\"2011-11-03T00:00:00\", 150], [\"2011-11-04T00:00:00\", 150], [\"2011-11-05T00:00:00\", 110], [\"2011-11-06T00:00:00\", 1500], [\"2011-11-07T00:00:00\", 3000], [\"2011-11-08T00:00:00\", 925], [\"2011-11-09T00:00:00\", 800], [\"2011-11-10T00:00:00\", 350], [\"2011-11-11T00:00:00\", 350], [\"2011-11-12T00:00:00\", 250], [\"2011-11-13T00:00:00\", 250], [\"2011-11-14T00:00:00\", 250], [\"2011-11-15T00:00:00\", 190], [\"2011-11-16T00:00:00\", 200], [\"2011-11-17T00:00:00\", 200], [\"2011-11-18T00:00:00\", 200], [\"2011-11-19T00:00:00\", 200], [\"2011-11-20T00:00:00\", 200], [\"2011-11-21T00:00:00\", 170], [\"2011-11-22T00:00:00\", 130], [\"2011-11-23T00:00:00\", 130], [\"2011-11-24T00:00:00\", 130], [\"2011-11-25T00:00:00\", 130], [\"2011-11-26T00:00:00\", 430], [\"2011-11-27T00:00:00\", 2630], [\"2011-11-28T00:00:00\", 4650], [\"2011-11-29T00:00:00\", 1150], [\"2011-11-30T00:00:00\", 400], [\"2011-12-01T00:00:00\", 400], [\"2011-12-02T00:00:00\", 400], [\"2011-12-03T00:00:00\", 150], [\"2011-12-04T00:00:00\", 150], [\"2011-12-05T00:00:00\", 150], [\"2011-12-06T00:00:00\", 150], [\"2011-12-07T00:00:00\", 150], [\"2011-12-08T00:00:00\", 150], [\"2011-12-09T00:00:00\", 150], [\"2011-12-10T00:00:00\", 150], [\"2011-12-11T00:00:00\", 130], [\"2011-12-12T00:00:00\", 130], [\"2011-12-13T00:00:00\", 130], [\"2011-12-14T00:00:00\", 130], [\"2011-12-15T00:00:00\", 130], [\"2011-12-16T00:00:00\", 130], [\"2011-12-17T00:00:00\", 150], [\"2011-12-18T00:00:00\", 150], [\"2011-12-19T00:00:00\", 150], [\"2011-12-20T00:00:00\", 150], [\"2011-12-21T00:00:00\", 150], [\"2011-12-22T00:00:00\", 150], [\"2011-12-23T00:00:00\", 150], [\"2011-12-24T00:00:00\", 150], [\"2011-12-25T00:00:00\", 150], [\"2011-12-26T00:00:00\", 150], [\"2011-12-27T00:00:00\", 150], [\"2011-12-28T00:00:00\", 150], [\"2011-12-29T00:00:00\", 150], [\"2011-12-30T00:00:00\", 150], [\"2011-12-31T00:00:00\", 150], [\"2012-11-01T00:00:00\", 90], [\"2012-11-02T00:00:00\", 90], [\"2012-11-03T00:00:00\", 90], [\"2012-11-04T00:00:00\", 90], [\"2012-11-05T00:00:00\", 90], [\"2012-11-06T00:00:00\", 90], [\"2012-11-07T00:00:00\", 90], [\"2012-11-08T00:00:00\", 90], [\"2012-11-09T00:00:00\", 90], [\"2012-11-10T00:00:00\", 90], [\"2012-11-11T00:00:00\", 90], [\"2012-11-12T00:00:00\", 90], [\"2012-11-13T00:00:00\", 90], [\"2012-11-14T00:00:00\", 90], [\"2012-11-15T00:00:00\", 90], [\"2012-11-16T00:00:00\", 90], [\"2012-11-17T00:00:00\", 90], [\"2012-11-18T00:00:00\", 90], [\"2012-11-19T00:00:00\", 90], [\"2012-11-20T00:00:00\", 90], [\"2012-11-21T00:00:00\", 90], [\"2012-11-22T00:00:00\", 90], [\"2012-11-23T00:00:00\", 90], [\"2012-11-24T00:00:00\", 90], [\"2012-11-25T00:00:00\", 90], [\"2012-11-26T00:00:00\", 90], [\"2012-11-27T00:00:00\", 90], [\"2012-11-28T00:00:00\", 90], [\"2012-11-29T00:00:00\", 90], [\"2012-11-30T00:00:00\", 90], [\"2012-12-01T00:00:00\", 90], [\"2012-12-02T00:00:00\", 80], [\"2012-12-03T00:00:00\", 80], [\"2012-12-04T00:00:00\", 80], [\"2012-12-05T00:00:00\", 80], [\"2012-12-06T00:00:00\", 80], [\"2012-12-07T00:00:00\", 80], [\"2012-12-08T00:00:00\", 95], [\"2012-12-09T00:00:00\", 80], [\"2012-12-10T00:00:00\", 80], [\"2012-12-11T00:00:00\", 80], [\"2012-12-12T00:00:00\", 80], [\"2012-12-13T00:00:00\", 90], [\"2012-12-14T00:00:00\", 90], [\"2012-12-15T00:00:00\", 80], [\"2012-12-16T00:00:00\", 80], [\"2012-12-17T00:00:00\", 115], [\"2012-12-18T00:00:00\", 115], [\"2012-12-19T00:00:00\", 115], [\"2012-12-20T00:00:00\", 115], [\"2012-12-21T00:00:00\", 125], [\"2012-12-22T00:00:00\", 125], [\"2012-12-23T00:00:00\", 135], [\"2012-12-24T00:00:00\", 135], [\"2012-12-25T00:00:00\", 100], [\"2012-12-26T00:00:00\", 100], [\"2012-12-27T00:00:00\", 100], [\"2012-12-28T00:00:00\", 100], [\"2012-12-29T00:00:00\", 100], [\"2012-12-30T00:00:00\", 65], [\"2012-12-31T00:00:00\", 15], [\"2013-11-01T00:00:00\", 42], [\"2013-11-02T00:00:00\", 49], [\"2013-11-03T00:00:00\", 52], [\"2013-11-04T00:00:00\", 50], [\"2013-11-05T00:00:00\", 72], [\"2013-11-06T00:00:00\", 52], [\"2013-11-07T00:00:00\", 50], [\"2013-11-08T00:00:00\", 50], [\"2013-11-09T00:00:00\", 50], [\"2013-11-10T00:00:00\", 50], [\"2013-11-11T00:00:00\", 50], [\"2013-11-12T00:00:00\", 55], [\"2013-11-13T00:00:00\", 50], [\"2013-11-14T00:00:00\", 56], [\"2013-11-15T00:00:00\", 50], [\"2013-11-16T00:00:00\", 50], [\"2013-11-17T00:00:00\", 50], [\"2013-11-18T00:00:00\", 50], [\"2013-11-19T00:00:00\", 17], [\"2013-11-20T00:00:00\", 44], [\"2013-11-21T00:00:00\", 72], [\"2013-11-22T00:00:00\", 72], [\"2013-11-23T00:00:00\", 72], [\"2013-11-24T00:00:00\", 59], [\"2013-11-25T00:00:00\", 54], [\"2013-11-26T00:00:00\", 58], [\"2013-11-27T00:00:00\", 52], [\"2013-11-28T00:00:00\", 52], [\"2013-11-29T00:00:00\", 50], [\"2013-11-30T00:00:00\", 52], [\"2013-12-01T00:00:00\", 50], [\"2013-12-02T00:00:00\", 58], [\"2013-12-03T00:00:00\", 50], [\"2013-12-04T00:00:00\", 50], [\"2013-12-05T00:00:00\", 72], [\"2013-12-06T00:00:00\", 72], [\"2013-12-07T00:00:00\", 77], [\"2013-12-08T00:00:00\", 72], [\"2013-12-09T00:00:00\", 72], [\"2013-12-10T00:00:00\", 84], [\"2013-12-11T00:00:00\", 72], [\"2013-12-12T00:00:00\", 72], [\"2013-12-13T00:00:00\", 72], [\"2013-12-14T00:00:00\", 70], [\"2013-12-15T00:00:00\", 72], [\"2013-12-16T00:00:00\", 72], [\"2013-12-17T00:00:00\", 72], [\"2013-12-18T00:00:00\", 72], [\"2013-12-19T00:00:00\", 58], [\"2013-12-20T00:00:00\", 58], [\"2013-12-21T00:00:00\", 54], [\"2013-12-22T00:00:00\", 50], [\"2013-12-23T00:00:00\", 44], [\"2013-12-24T00:00:00\", 47], [\"2013-12-25T00:00:00\", 46], [\"2013-12-26T00:00:00\", 46], [\"2013-12-27T00:00:00\", 46], [\"2013-12-28T00:00:00\", 46], [\"2013-12-29T00:00:00\", 46], [\"2013-12-30T00:00:00\", 46], [\"2013-12-31T00:00:00\", 46], [\"2014-11-01T00:00:00\", 88], [\"2014-11-02T00:00:00\", 86], [\"2014-11-03T00:00:00\", 86], [\"2014-11-04T00:00:00\", 82], [\"2014-11-05T00:00:00\", 86], [\"2014-11-06T00:00:00\", 82], [\"2014-11-07T00:00:00\", 86], [\"2014-11-08T00:00:00\", 92], [\"2014-11-09T00:00:00\", 92], [\"2014-11-10T00:00:00\", 88], [\"2014-11-11T00:00:00\", 88], [\"2014-11-12T00:00:00\", 82], [\"2014-11-13T00:00:00\", 82], [\"2014-11-14T00:00:00\", 82], [\"2014-11-15T00:00:00\", 92], [\"2014-11-16T00:00:00\", 86], [\"2014-11-17T00:00:00\", 86], [\"2014-11-18T00:00:00\", 82], [\"2014-11-19T00:00:00\", 84], [\"2014-11-20T00:00:00\", 82], [\"2014-11-21T00:00:00\", 80], [\"2014-11-22T00:00:00\", 82], [\"2014-11-23T00:00:00\", 82], [\"2014-11-24T00:00:00\", 78], [\"2014-11-25T00:00:00\", 92], [\"2014-11-26T00:00:00\", 88], [\"2014-11-27T00:00:00\", 82], [\"2014-11-28T00:00:00\", 88], [\"2014-11-29T00:00:00\", 88], [\"2014-11-30T00:00:00\", 82], [\"2014-12-01T00:00:00\", 88], [\"2014-12-02T00:00:00\", 92], [\"2014-12-03T00:00:00\", 92], [\"2014-12-04T00:00:00\", 92], [\"2014-12-05T00:00:00\", 82], [\"2014-12-06T00:00:00\", 78], [\"2014-12-07T00:00:00\", 74], [\"2014-12-08T00:00:00\", 74], [\"2014-12-09T00:00:00\", 70], [\"2014-12-10T00:00:00\", 113], [\"2014-12-11T00:00:00\", 92], [\"2014-12-12T00:00:00\", 92], [\"2014-12-13T00:00:00\", 78], [\"2014-12-14T00:00:00\", 74], [\"2014-12-15T00:00:00\", 74], [\"2014-12-16T00:00:00\", 70], [\"2014-12-17T00:00:00\", 70], [\"2014-12-18T00:00:00\", 70], [\"2014-12-19T00:00:00\", 86], [\"2014-12-20T00:00:00\", 86], [\"2014-12-21T00:00:00\", 92], [\"2014-12-22T00:00:00\", 92], [\"2014-12-23T00:00:00\", 92], [\"2014-12-24T00:00:00\", 92], [\"2014-12-25T00:00:00\", 92], [\"2014-12-26T00:00:00\", 92], [\"2014-12-27T00:00:00\", 92], [\"2014-12-28T00:00:00\", 92], [\"2014-12-29T00:00:00\", 92], [\"2014-12-30T00:00:00\", 92], [\"2014-12-31T00:00:00\", 92], [\"2015-11-01T00:00:00\", 46], [\"2015-11-02T00:00:00\", 46], [\"2015-11-03T00:00:00\", 48], [\"2015-11-04T00:00:00\", 50], [\"2015-11-05T00:00:00\", 46], [\"2015-11-06T00:00:00\", 48], [\"2015-11-07T00:00:00\", 48], [\"2015-11-08T00:00:00\", 50], [\"2015-11-09T00:00:00\", 50], [\"2015-11-10T00:00:00\", 54], [\"2015-11-11T00:00:00\", 71], [\"2015-11-12T00:00:00\", 71], [\"2015-11-13T00:00:00\", 71], [\"2015-11-14T00:00:00\", 74], [\"2015-11-15T00:00:00\", 64], [\"2015-11-16T00:00:00\", 64], [\"2015-11-17T00:00:00\", 18000], [\"2015-11-18T00:00:00\", 800], [\"2015-11-19T00:00:00\", 500], [\"2015-11-20T00:00:00\", 4000], [\"2015-11-21T00:00:00\", 2000], [\"2015-11-22T00:00:00\", 1500], [\"2015-11-23T00:00:00\", 4000], [\"2015-11-24T00:00:00\", 6000], [\"2015-11-25T00:00:00\", 5000], [\"2015-11-26T00:00:00\", 2500], [\"2015-11-27T00:00:00\", 1000], [\"2015-11-28T00:00:00\", 500], [\"2015-11-29T00:00:00\", 570], [\"2015-11-30T00:00:00\", 600], [\"2015-12-01T00:00:00\", 900], [\"2015-12-02T00:00:00\", 29000], [\"2015-12-03T00:00:00\", 11000], [\"2015-12-04T00:00:00\", 5000], [\"2015-12-05T00:00:00\", 3500], [\"2015-12-06T00:00:00\", 3000], [\"2015-12-07T00:00:00\", 4000], [\"2015-12-08T00:00:00\", 178], [\"2015-12-09T00:00:00\", 790], [\"2015-12-10T00:00:00\", 900], [\"2015-12-11T00:00:00\", 84], [\"2015-12-12T00:00:00\", 89], [\"2015-12-13T00:00:00\", 92], [\"2015-12-14T00:00:00\", 93], [\"2015-12-15T00:00:00\", 89], [\"2015-12-16T00:00:00\", 85], [\"2015-12-17T00:00:00\", 93], [\"2015-12-18T00:00:00\", 101], [\"2015-12-19T00:00:00\", 101], [\"2015-12-20T00:00:00\", 101], [\"2015-12-21T00:00:00\", 101], [\"2015-12-22T00:00:00\", 101], [\"2015-12-23T00:00:00\", 94], [\"2015-12-24T00:00:00\", 64], [\"2015-12-25T00:00:00\", 56], [\"2015-12-26T00:00:00\", 56], [\"2015-12-27T00:00:00\", 99], [\"2015-12-28T00:00:00\", 100], [\"2015-12-29T00:00:00\", 99], [\"2015-12-30T00:00:00\", 92], [\"2015-12-31T00:00:00\", 109], [\"2016-11-01T00:00:00\", 151], [\"2016-11-02T00:00:00\", 151], [\"2016-11-03T00:00:00\", 149], [\"2016-11-04T00:00:00\", 151], [\"2016-11-05T00:00:00\", 151], [\"2016-11-06T00:00:00\", 147], [\"2016-11-07T00:00:00\", 151], [\"2016-11-08T00:00:00\", 151], [\"2016-11-09T00:00:00\", 150], [\"2016-11-10T00:00:00\", 151], [\"2016-11-11T00:00:00\", 149], [\"2016-11-12T00:00:00\", 151], [\"2016-11-13T00:00:00\", 151], [\"2016-11-14T00:00:00\", 55], [\"2016-11-15T00:00:00\", 56], [\"2016-11-16T00:00:00\", 120], [\"2016-11-17T00:00:00\", 151], [\"2016-11-18T00:00:00\", 151], [\"2016-11-19T00:00:00\", 151], [\"2016-11-20T00:00:00\", 151], [\"2016-11-21T00:00:00\", 151], [\"2016-11-22T00:00:00\", 131], [\"2016-11-23T00:00:00\", 92], [\"2016-11-24T00:00:00\", 115], [\"2016-11-25T00:00:00\", 108], [\"2016-11-26T00:00:00\", 127], [\"2016-11-27T00:00:00\", 92], [\"2016-11-28T00:00:00\", 92], [\"2016-11-29T00:00:00\", 92], [\"2016-11-30T00:00:00\", 92], [\"2016-12-01T00:00:00\", 82], [\"2016-12-02T00:00:00\", 82], [\"2016-12-03T00:00:00\", 111], [\"2016-12-04T00:00:00\", 98], [\"2016-12-05T00:00:00\", 82], [\"2016-12-06T00:00:00\", 82], [\"2016-12-07T00:00:00\", 82], [\"2016-12-08T00:00:00\", 78], [\"2016-12-09T00:00:00\", 82], [\"2016-12-10T00:00:00\", 82], [\"2016-12-11T00:00:00\", 82], [\"2016-12-12T00:00:00\", 102], [\"2016-12-13T00:00:00\", 132], [\"2016-12-14T00:00:00\", 54], [\"2016-12-15T00:00:00\", 106], [\"2016-12-16T00:00:00\", 99], [\"2017-11-01T00:00:00\", 60], [\"2017-11-02T00:00:00\", 60], [\"2017-11-03T00:00:00\", 66], [\"2017-11-04T00:00:00\", 73], [\"2017-11-05T00:00:00\", 73], [\"2017-11-06T00:00:00\", 73], [\"2017-11-07T00:00:00\", 68], [\"2017-11-08T00:00:00\", 28], [\"2017-11-09T00:00:00\", 38], [\"2017-11-10T00:00:00\", 48]], \"columns\": [{\"dtype\": \"str\", \"name\": \"Date\"}, {\"dtype\": \"str\", \"name\": \"Reservoir\"}, {\"dtype\": \"float\", \"name\": \"Full Tank Level (ft)\"}, {\"dtype\": \"int\", \"name\": \"Full Capacity mcft\"}, {\"dtype\": \"float\", \"name\": \"Level (ft)\"}, {\"dtype\": \"int\", \"name\": \"Storage Mcft\"}, {\"dtype\": \"int\", \"name\": \"Inflow (cusecs)\"}, {\"dtype\": \"int\", \"name\": \"Outflow (cusecs)\"}, {\"dtype\": \"int\", \"name\": \"Rainfall (mm)\"}, {\"dtype\": \"int\", \"name\": \"Storage as on same day last year (mcft)\"}, {\"dtype\": \"datetime\", \"name\": \"date_obs\"}]}, e);\n",
       "                });\n",
       "            })();\n",
       "        "
      ]
     },
     "metadata": {},
     "output_type": "display_data"
    }
   ],
   "source": [
    "Damdata.show(view=\"Scatter Plot\", x=\"date_obs\", y=\"Outflow (cusecs)\")"
   ]
  },
  {
   "cell_type": "code",
   "execution_count": 24,
   "metadata": {
    "collapsed": false
   },
   "outputs": [
    {
     "data": {
      "text/html": [
       "<div style=\"max-height:1000px;max-width:1500px;overflow:auto;\"><table frame=\"box\" rules=\"cols\">\n",
       "    <tr>\n",
       "        <th style=\"padding-left: 1em; padding-right: 1em; text-align: center\">Date</th>\n",
       "        <th style=\"padding-left: 1em; padding-right: 1em; text-align: center\">Reservoir</th>\n",
       "        <th style=\"padding-left: 1em; padding-right: 1em; text-align: center\">Full Tank Level (ft)</th>\n",
       "        <th style=\"padding-left: 1em; padding-right: 1em; text-align: center\">Full Capacity mcft</th>\n",
       "        <th style=\"padding-left: 1em; padding-right: 1em; text-align: center\">Level (ft)</th>\n",
       "        <th style=\"padding-left: 1em; padding-right: 1em; text-align: center\">Storage Mcft</th>\n",
       "        <th style=\"padding-left: 1em; padding-right: 1em; text-align: center\">Inflow (cusecs)</th>\n",
       "    </tr>\n",
       "    <tr>\n",
       "        <td style=\"padding-left: 1em; padding-right: 1em; text-align: center; vertical-align: top\">01-11-2005</td>\n",
       "        <td style=\"padding-left: 1em; padding-right: 1em; text-align: center; vertical-align: top\">CHEMBARAMBAKKAM</td>\n",
       "        <td style=\"padding-left: 1em; padding-right: 1em; text-align: center; vertical-align: top\">85.4</td>\n",
       "        <td style=\"padding-left: 1em; padding-right: 1em; text-align: center; vertical-align: top\">3645</td>\n",
       "        <td style=\"padding-left: 1em; padding-right: 1em; text-align: center; vertical-align: top\">74.8</td>\n",
       "        <td style=\"padding-left: 1em; padding-right: 1em; text-align: center; vertical-align: top\">1259</td>\n",
       "        <td style=\"padding-left: 1em; padding-right: 1em; text-align: center; vertical-align: top\">278</td>\n",
       "    </tr>\n",
       "    <tr>\n",
       "        <td style=\"padding-left: 1em; padding-right: 1em; text-align: center; vertical-align: top\">02-11-2005</td>\n",
       "        <td style=\"padding-left: 1em; padding-right: 1em; text-align: center; vertical-align: top\">CHEMBARAMBAKKAM</td>\n",
       "        <td style=\"padding-left: 1em; padding-right: 1em; text-align: center; vertical-align: top\">85.4</td>\n",
       "        <td style=\"padding-left: 1em; padding-right: 1em; text-align: center; vertical-align: top\">3645</td>\n",
       "        <td style=\"padding-left: 1em; padding-right: 1em; text-align: center; vertical-align: top\">74.85</td>\n",
       "        <td style=\"padding-left: 1em; padding-right: 1em; text-align: center; vertical-align: top\">1259</td>\n",
       "        <td style=\"padding-left: 1em; padding-right: 1em; text-align: center; vertical-align: top\">0</td>\n",
       "    </tr>\n",
       "    <tr>\n",
       "        <td style=\"padding-left: 1em; padding-right: 1em; text-align: center; vertical-align: top\">03-11-2005</td>\n",
       "        <td style=\"padding-left: 1em; padding-right: 1em; text-align: center; vertical-align: top\">CHEMBARAMBAKKAM</td>\n",
       "        <td style=\"padding-left: 1em; padding-right: 1em; text-align: center; vertical-align: top\">85.4</td>\n",
       "        <td style=\"padding-left: 1em; padding-right: 1em; text-align: center; vertical-align: top\">3645</td>\n",
       "        <td style=\"padding-left: 1em; padding-right: 1em; text-align: center; vertical-align: top\">74.9</td>\n",
       "        <td style=\"padding-left: 1em; padding-right: 1em; text-align: center; vertical-align: top\">1268</td>\n",
       "        <td style=\"padding-left: 1em; padding-right: 1em; text-align: center; vertical-align: top\">104</td>\n",
       "    </tr>\n",
       "    <tr>\n",
       "        <td style=\"padding-left: 1em; padding-right: 1em; text-align: center; vertical-align: top\">04-11-2005</td>\n",
       "        <td style=\"padding-left: 1em; padding-right: 1em; text-align: center; vertical-align: top\">CHEMBARAMBAKKAM</td>\n",
       "        <td style=\"padding-left: 1em; padding-right: 1em; text-align: center; vertical-align: top\">85.4</td>\n",
       "        <td style=\"padding-left: 1em; padding-right: 1em; text-align: center; vertical-align: top\">3645</td>\n",
       "        <td style=\"padding-left: 1em; padding-right: 1em; text-align: center; vertical-align: top\">75.0</td>\n",
       "        <td style=\"padding-left: 1em; padding-right: 1em; text-align: center; vertical-align: top\">1284</td>\n",
       "        <td style=\"padding-left: 1em; padding-right: 1em; text-align: center; vertical-align: top\">185</td>\n",
       "    </tr>\n",
       "    <tr>\n",
       "        <td style=\"padding-left: 1em; padding-right: 1em; text-align: center; vertical-align: top\">05-11-2005</td>\n",
       "        <td style=\"padding-left: 1em; padding-right: 1em; text-align: center; vertical-align: top\">CHEMBARAMBAKKAM</td>\n",
       "        <td style=\"padding-left: 1em; padding-right: 1em; text-align: center; vertical-align: top\">85.4</td>\n",
       "        <td style=\"padding-left: 1em; padding-right: 1em; text-align: center; vertical-align: top\">3645</td>\n",
       "        <td style=\"padding-left: 1em; padding-right: 1em; text-align: center; vertical-align: top\">75.15</td>\n",
       "        <td style=\"padding-left: 1em; padding-right: 1em; text-align: center; vertical-align: top\">1310</td>\n",
       "        <td style=\"padding-left: 1em; padding-right: 1em; text-align: center; vertical-align: top\">301</td>\n",
       "    </tr>\n",
       "    <tr>\n",
       "        <td style=\"padding-left: 1em; padding-right: 1em; text-align: center; vertical-align: top\">06-11-2005</td>\n",
       "        <td style=\"padding-left: 1em; padding-right: 1em; text-align: center; vertical-align: top\">CHEMBARAMBAKKAM</td>\n",
       "        <td style=\"padding-left: 1em; padding-right: 1em; text-align: center; vertical-align: top\">85.4</td>\n",
       "        <td style=\"padding-left: 1em; padding-right: 1em; text-align: center; vertical-align: top\">3645</td>\n",
       "        <td style=\"padding-left: 1em; padding-right: 1em; text-align: center; vertical-align: top\">75.5</td>\n",
       "        <td style=\"padding-left: 1em; padding-right: 1em; text-align: center; vertical-align: top\">1371</td>\n",
       "        <td style=\"padding-left: 1em; padding-right: 1em; text-align: center; vertical-align: top\">706</td>\n",
       "    </tr>\n",
       "    <tr>\n",
       "        <td style=\"padding-left: 1em; padding-right: 1em; text-align: center; vertical-align: top\">07-11-2005</td>\n",
       "        <td style=\"padding-left: 1em; padding-right: 1em; text-align: center; vertical-align: top\">CHEMBARAMBAKKAM</td>\n",
       "        <td style=\"padding-left: 1em; padding-right: 1em; text-align: center; vertical-align: top\">85.4</td>\n",
       "        <td style=\"padding-left: 1em; padding-right: 1em; text-align: center; vertical-align: top\">3645</td>\n",
       "        <td style=\"padding-left: 1em; padding-right: 1em; text-align: center; vertical-align: top\">77.5</td>\n",
       "        <td style=\"padding-left: 1em; padding-right: 1em; text-align: center; vertical-align: top\">1739</td>\n",
       "        <td style=\"padding-left: 1em; padding-right: 1em; text-align: center; vertical-align: top\">4259</td>\n",
       "    </tr>\n",
       "    <tr>\n",
       "        <td style=\"padding-left: 1em; padding-right: 1em; text-align: center; vertical-align: top\">08-11-2005</td>\n",
       "        <td style=\"padding-left: 1em; padding-right: 1em; text-align: center; vertical-align: top\">CHEMBARAMBAKKAM</td>\n",
       "        <td style=\"padding-left: 1em; padding-right: 1em; text-align: center; vertical-align: top\">85.4</td>\n",
       "        <td style=\"padding-left: 1em; padding-right: 1em; text-align: center; vertical-align: top\">3645</td>\n",
       "        <td style=\"padding-left: 1em; padding-right: 1em; text-align: center; vertical-align: top\">79.15</td>\n",
       "        <td style=\"padding-left: 1em; padding-right: 1em; text-align: center; vertical-align: top\">2080</td>\n",
       "        <td style=\"padding-left: 1em; padding-right: 1em; text-align: center; vertical-align: top\">3900</td>\n",
       "    </tr>\n",
       "    <tr>\n",
       "        <td style=\"padding-left: 1em; padding-right: 1em; text-align: center; vertical-align: top\">09-11-2005</td>\n",
       "        <td style=\"padding-left: 1em; padding-right: 1em; text-align: center; vertical-align: top\">CHEMBARAMBAKKAM</td>\n",
       "        <td style=\"padding-left: 1em; padding-right: 1em; text-align: center; vertical-align: top\">85.4</td>\n",
       "        <td style=\"padding-left: 1em; padding-right: 1em; text-align: center; vertical-align: top\">3645</td>\n",
       "        <td style=\"padding-left: 1em; padding-right: 1em; text-align: center; vertical-align: top\">80.5</td>\n",
       "        <td style=\"padding-left: 1em; padding-right: 1em; text-align: center; vertical-align: top\">2387</td>\n",
       "        <td style=\"padding-left: 1em; padding-right: 1em; text-align: center; vertical-align: top\">3600</td>\n",
       "    </tr>\n",
       "    <tr>\n",
       "        <td style=\"padding-left: 1em; padding-right: 1em; text-align: center; vertical-align: top\">10-11-2005</td>\n",
       "        <td style=\"padding-left: 1em; padding-right: 1em; text-align: center; vertical-align: top\">CHEMBARAMBAKKAM</td>\n",
       "        <td style=\"padding-left: 1em; padding-right: 1em; text-align: center; vertical-align: top\">85.4</td>\n",
       "        <td style=\"padding-left: 1em; padding-right: 1em; text-align: center; vertical-align: top\">3645</td>\n",
       "        <td style=\"padding-left: 1em; padding-right: 1em; text-align: center; vertical-align: top\">81.35</td>\n",
       "        <td style=\"padding-left: 1em; padding-right: 1em; text-align: center; vertical-align: top\">2591</td>\n",
       "        <td style=\"padding-left: 1em; padding-right: 1em; text-align: center; vertical-align: top\">2400</td>\n",
       "    </tr>\n",
       "</table>\n",
       "<table frame=\"box\" rules=\"cols\">\n",
       "    <tr>\n",
       "        <th style=\"padding-left: 1em; padding-right: 1em; text-align: center\">Outflow (cusecs)</th>\n",
       "        <th style=\"padding-left: 1em; padding-right: 1em; text-align: center\">Rainfall (mm)</th>\n",
       "        <th style=\"padding-left: 1em; padding-right: 1em; text-align: center\">Storage as on same day<br>last year (mcft) ...</th>\n",
       "        <th style=\"padding-left: 1em; padding-right: 1em; text-align: center\">date_obs</th>\n",
       "        <th style=\"padding-left: 1em; padding-right: 1em; text-align: center\">year</th>\n",
       "        <th style=\"padding-left: 1em; padding-right: 1em; text-align: center\">month</th>\n",
       "        <th style=\"padding-left: 1em; padding-right: 1em; text-align: center\">day</th>\n",
       "        <th style=\"padding-left: 1em; padding-right: 1em; text-align: center\">hour</th>\n",
       "        <th style=\"padding-left: 1em; padding-right: 1em; text-align: center\">minute</th>\n",
       "    </tr>\n",
       "    <tr>\n",
       "        <td style=\"padding-left: 1em; padding-right: 1em; text-align: center; vertical-align: top\">0</td>\n",
       "        <td style=\"padding-left: 1em; padding-right: 1em; text-align: center; vertical-align: top\">3</td>\n",
       "        <td style=\"padding-left: 1em; padding-right: 1em; text-align: center; vertical-align: top\">72</td>\n",
       "        <td style=\"padding-left: 1em; padding-right: 1em; text-align: center; vertical-align: top\">2005-11-01 00:00:00</td>\n",
       "        <td style=\"padding-left: 1em; padding-right: 1em; text-align: center; vertical-align: top\">2005</td>\n",
       "        <td style=\"padding-left: 1em; padding-right: 1em; text-align: center; vertical-align: top\">11</td>\n",
       "        <td style=\"padding-left: 1em; padding-right: 1em; text-align: center; vertical-align: top\">1</td>\n",
       "        <td style=\"padding-left: 1em; padding-right: 1em; text-align: center; vertical-align: top\">0</td>\n",
       "        <td style=\"padding-left: 1em; padding-right: 1em; text-align: center; vertical-align: top\">0</td>\n",
       "    </tr>\n",
       "    <tr>\n",
       "        <td style=\"padding-left: 1em; padding-right: 1em; text-align: center; vertical-align: top\">0</td>\n",
       "        <td style=\"padding-left: 1em; padding-right: 1em; text-align: center; vertical-align: top\">0</td>\n",
       "        <td style=\"padding-left: 1em; padding-right: 1em; text-align: center; vertical-align: top\">78</td>\n",
       "        <td style=\"padding-left: 1em; padding-right: 1em; text-align: center; vertical-align: top\">2005-11-02 00:00:00</td>\n",
       "        <td style=\"padding-left: 1em; padding-right: 1em; text-align: center; vertical-align: top\">2005</td>\n",
       "        <td style=\"padding-left: 1em; padding-right: 1em; text-align: center; vertical-align: top\">11</td>\n",
       "        <td style=\"padding-left: 1em; padding-right: 1em; text-align: center; vertical-align: top\">2</td>\n",
       "        <td style=\"padding-left: 1em; padding-right: 1em; text-align: center; vertical-align: top\">0</td>\n",
       "        <td style=\"padding-left: 1em; padding-right: 1em; text-align: center; vertical-align: top\">0</td>\n",
       "    </tr>\n",
       "    <tr>\n",
       "        <td style=\"padding-left: 1em; padding-right: 1em; text-align: center; vertical-align: top\">0</td>\n",
       "        <td style=\"padding-left: 1em; padding-right: 1em; text-align: center; vertical-align: top\">2</td>\n",
       "        <td style=\"padding-left: 1em; padding-right: 1em; text-align: center; vertical-align: top\">78</td>\n",
       "        <td style=\"padding-left: 1em; padding-right: 1em; text-align: center; vertical-align: top\">2005-11-03 00:00:00</td>\n",
       "        <td style=\"padding-left: 1em; padding-right: 1em; text-align: center; vertical-align: top\">2005</td>\n",
       "        <td style=\"padding-left: 1em; padding-right: 1em; text-align: center; vertical-align: top\">11</td>\n",
       "        <td style=\"padding-left: 1em; padding-right: 1em; text-align: center; vertical-align: top\">3</td>\n",
       "        <td style=\"padding-left: 1em; padding-right: 1em; text-align: center; vertical-align: top\">0</td>\n",
       "        <td style=\"padding-left: 1em; padding-right: 1em; text-align: center; vertical-align: top\">0</td>\n",
       "    </tr>\n",
       "    <tr>\n",
       "        <td style=\"padding-left: 1em; padding-right: 1em; text-align: center; vertical-align: top\">0</td>\n",
       "        <td style=\"padding-left: 1em; padding-right: 1em; text-align: center; vertical-align: top\">7</td>\n",
       "        <td style=\"padding-left: 1em; padding-right: 1em; text-align: center; vertical-align: top\">78</td>\n",
       "        <td style=\"padding-left: 1em; padding-right: 1em; text-align: center; vertical-align: top\">2005-11-04 00:00:00</td>\n",
       "        <td style=\"padding-left: 1em; padding-right: 1em; text-align: center; vertical-align: top\">2005</td>\n",
       "        <td style=\"padding-left: 1em; padding-right: 1em; text-align: center; vertical-align: top\">11</td>\n",
       "        <td style=\"padding-left: 1em; padding-right: 1em; text-align: center; vertical-align: top\">4</td>\n",
       "        <td style=\"padding-left: 1em; padding-right: 1em; text-align: center; vertical-align: top\">0</td>\n",
       "        <td style=\"padding-left: 1em; padding-right: 1em; text-align: center; vertical-align: top\">0</td>\n",
       "    </tr>\n",
       "    <tr>\n",
       "        <td style=\"padding-left: 1em; padding-right: 1em; text-align: center; vertical-align: top\">0</td>\n",
       "        <td style=\"padding-left: 1em; padding-right: 1em; text-align: center; vertical-align: top\">40</td>\n",
       "        <td style=\"padding-left: 1em; padding-right: 1em; text-align: center; vertical-align: top\">78</td>\n",
       "        <td style=\"padding-left: 1em; padding-right: 1em; text-align: center; vertical-align: top\">2005-11-05 00:00:00</td>\n",
       "        <td style=\"padding-left: 1em; padding-right: 1em; text-align: center; vertical-align: top\">2005</td>\n",
       "        <td style=\"padding-left: 1em; padding-right: 1em; text-align: center; vertical-align: top\">11</td>\n",
       "        <td style=\"padding-left: 1em; padding-right: 1em; text-align: center; vertical-align: top\">5</td>\n",
       "        <td style=\"padding-left: 1em; padding-right: 1em; text-align: center; vertical-align: top\">0</td>\n",
       "        <td style=\"padding-left: 1em; padding-right: 1em; text-align: center; vertical-align: top\">0</td>\n",
       "    </tr>\n",
       "    <tr>\n",
       "        <td style=\"padding-left: 1em; padding-right: 1em; text-align: center; vertical-align: top\">0</td>\n",
       "        <td style=\"padding-left: 1em; padding-right: 1em; text-align: center; vertical-align: top\">54</td>\n",
       "        <td style=\"padding-left: 1em; padding-right: 1em; text-align: center; vertical-align: top\">101</td>\n",
       "        <td style=\"padding-left: 1em; padding-right: 1em; text-align: center; vertical-align: top\">2005-11-06 00:00:00</td>\n",
       "        <td style=\"padding-left: 1em; padding-right: 1em; text-align: center; vertical-align: top\">2005</td>\n",
       "        <td style=\"padding-left: 1em; padding-right: 1em; text-align: center; vertical-align: top\">11</td>\n",
       "        <td style=\"padding-left: 1em; padding-right: 1em; text-align: center; vertical-align: top\">6</td>\n",
       "        <td style=\"padding-left: 1em; padding-right: 1em; text-align: center; vertical-align: top\">0</td>\n",
       "        <td style=\"padding-left: 1em; padding-right: 1em; text-align: center; vertical-align: top\">0</td>\n",
       "    </tr>\n",
       "    <tr>\n",
       "        <td style=\"padding-left: 1em; padding-right: 1em; text-align: center; vertical-align: top\">0</td>\n",
       "        <td style=\"padding-left: 1em; padding-right: 1em; text-align: center; vertical-align: top\">170</td>\n",
       "        <td style=\"padding-left: 1em; padding-right: 1em; text-align: center; vertical-align: top\">170</td>\n",
       "        <td style=\"padding-left: 1em; padding-right: 1em; text-align: center; vertical-align: top\">2005-11-07 00:00:00</td>\n",
       "        <td style=\"padding-left: 1em; padding-right: 1em; text-align: center; vertical-align: top\">2005</td>\n",
       "        <td style=\"padding-left: 1em; padding-right: 1em; text-align: center; vertical-align: top\">11</td>\n",
       "        <td style=\"padding-left: 1em; padding-right: 1em; text-align: center; vertical-align: top\">7</td>\n",
       "        <td style=\"padding-left: 1em; padding-right: 1em; text-align: center; vertical-align: top\">0</td>\n",
       "        <td style=\"padding-left: 1em; padding-right: 1em; text-align: center; vertical-align: top\">0</td>\n",
       "    </tr>\n",
       "    <tr>\n",
       "        <td style=\"padding-left: 1em; padding-right: 1em; text-align: center; vertical-align: top\">0</td>\n",
       "        <td style=\"padding-left: 1em; padding-right: 1em; text-align: center; vertical-align: top\">52</td>\n",
       "        <td style=\"padding-left: 1em; padding-right: 1em; text-align: center; vertical-align: top\">250</td>\n",
       "        <td style=\"padding-left: 1em; padding-right: 1em; text-align: center; vertical-align: top\">2005-11-08 00:00:00</td>\n",
       "        <td style=\"padding-left: 1em; padding-right: 1em; text-align: center; vertical-align: top\">2005</td>\n",
       "        <td style=\"padding-left: 1em; padding-right: 1em; text-align: center; vertical-align: top\">11</td>\n",
       "        <td style=\"padding-left: 1em; padding-right: 1em; text-align: center; vertical-align: top\">8</td>\n",
       "        <td style=\"padding-left: 1em; padding-right: 1em; text-align: center; vertical-align: top\">0</td>\n",
       "        <td style=\"padding-left: 1em; padding-right: 1em; text-align: center; vertical-align: top\">0</td>\n",
       "    </tr>\n",
       "    <tr>\n",
       "        <td style=\"padding-left: 1em; padding-right: 1em; text-align: center; vertical-align: top\">0</td>\n",
       "        <td style=\"padding-left: 1em; padding-right: 1em; text-align: center; vertical-align: top\">27</td>\n",
       "        <td style=\"padding-left: 1em; padding-right: 1em; text-align: center; vertical-align: top\">284</td>\n",
       "        <td style=\"padding-left: 1em; padding-right: 1em; text-align: center; vertical-align: top\">2005-11-09 00:00:00</td>\n",
       "        <td style=\"padding-left: 1em; padding-right: 1em; text-align: center; vertical-align: top\">2005</td>\n",
       "        <td style=\"padding-left: 1em; padding-right: 1em; text-align: center; vertical-align: top\">11</td>\n",
       "        <td style=\"padding-left: 1em; padding-right: 1em; text-align: center; vertical-align: top\">9</td>\n",
       "        <td style=\"padding-left: 1em; padding-right: 1em; text-align: center; vertical-align: top\">0</td>\n",
       "        <td style=\"padding-left: 1em; padding-right: 1em; text-align: center; vertical-align: top\">0</td>\n",
       "    </tr>\n",
       "    <tr>\n",
       "        <td style=\"padding-left: 1em; padding-right: 1em; text-align: center; vertical-align: top\">0</td>\n",
       "        <td style=\"padding-left: 1em; padding-right: 1em; text-align: center; vertical-align: top\">0</td>\n",
       "        <td style=\"padding-left: 1em; padding-right: 1em; text-align: center; vertical-align: top\">292</td>\n",
       "        <td style=\"padding-left: 1em; padding-right: 1em; text-align: center; vertical-align: top\">2005-11-10 00:00:00</td>\n",
       "        <td style=\"padding-left: 1em; padding-right: 1em; text-align: center; vertical-align: top\">2005</td>\n",
       "        <td style=\"padding-left: 1em; padding-right: 1em; text-align: center; vertical-align: top\">11</td>\n",
       "        <td style=\"padding-left: 1em; padding-right: 1em; text-align: center; vertical-align: top\">10</td>\n",
       "        <td style=\"padding-left: 1em; padding-right: 1em; text-align: center; vertical-align: top\">0</td>\n",
       "        <td style=\"padding-left: 1em; padding-right: 1em; text-align: center; vertical-align: top\">0</td>\n",
       "    </tr>\n",
       "</table>\n",
       "<table frame=\"box\" rules=\"cols\">\n",
       "    <tr>\n",
       "        <th style=\"padding-left: 1em; padding-right: 1em; text-align: center\">second</th>\n",
       "    </tr>\n",
       "    <tr>\n",
       "        <td style=\"padding-left: 1em; padding-right: 1em; text-align: center; vertical-align: top\">0</td>\n",
       "    </tr>\n",
       "    <tr>\n",
       "        <td style=\"padding-left: 1em; padding-right: 1em; text-align: center; vertical-align: top\">0</td>\n",
       "    </tr>\n",
       "    <tr>\n",
       "        <td style=\"padding-left: 1em; padding-right: 1em; text-align: center; vertical-align: top\">0</td>\n",
       "    </tr>\n",
       "    <tr>\n",
       "        <td style=\"padding-left: 1em; padding-right: 1em; text-align: center; vertical-align: top\">0</td>\n",
       "    </tr>\n",
       "    <tr>\n",
       "        <td style=\"padding-left: 1em; padding-right: 1em; text-align: center; vertical-align: top\">0</td>\n",
       "    </tr>\n",
       "    <tr>\n",
       "        <td style=\"padding-left: 1em; padding-right: 1em; text-align: center; vertical-align: top\">0</td>\n",
       "    </tr>\n",
       "    <tr>\n",
       "        <td style=\"padding-left: 1em; padding-right: 1em; text-align: center; vertical-align: top\">0</td>\n",
       "    </tr>\n",
       "    <tr>\n",
       "        <td style=\"padding-left: 1em; padding-right: 1em; text-align: center; vertical-align: top\">0</td>\n",
       "    </tr>\n",
       "    <tr>\n",
       "        <td style=\"padding-left: 1em; padding-right: 1em; text-align: center; vertical-align: top\">0</td>\n",
       "    </tr>\n",
       "    <tr>\n",
       "        <td style=\"padding-left: 1em; padding-right: 1em; text-align: center; vertical-align: top\">0</td>\n",
       "    </tr>\n",
       "</table>\n",
       "[605 rows x 17 columns]<br/>Note: Only the head of the SFrame is printed.<br/>You can use print_rows(num_rows=m, num_columns=n) to print more rows and columns.\n",
       "</div>"
      ],
      "text/plain": [
       "Columns:\n",
       "\tDate\tstr\n",
       "\tReservoir\tstr\n",
       "\tFull Tank Level (ft)\tfloat\n",
       "\tFull Capacity mcft\tint\n",
       "\tLevel (ft)\tfloat\n",
       "\tStorage Mcft\tint\n",
       "\tInflow (cusecs)\tint\n",
       "\tOutflow (cusecs)\tint\n",
       "\tRainfall (mm)\tint\n",
       "\tStorage as on same day last year (mcft)\tint\n",
       "\tdate_obs\tdatetime\n",
       "\tyear\tint\n",
       "\tmonth\tint\n",
       "\tday\tint\n",
       "\thour\tint\n",
       "\tminute\tint\n",
       "\tsecond\tint\n",
       "\n",
       "Rows: 605\n",
       "\n",
       "Data:\n",
       "+------------+-----------------+----------------------+--------------------+\n",
       "|    Date    |    Reservoir    | Full Tank Level (ft) | Full Capacity mcft |\n",
       "+------------+-----------------+----------------------+--------------------+\n",
       "| 01-11-2005 | CHEMBARAMBAKKAM |         85.4         |        3645        |\n",
       "| 02-11-2005 | CHEMBARAMBAKKAM |         85.4         |        3645        |\n",
       "| 03-11-2005 | CHEMBARAMBAKKAM |         85.4         |        3645        |\n",
       "| 04-11-2005 | CHEMBARAMBAKKAM |         85.4         |        3645        |\n",
       "| 05-11-2005 | CHEMBARAMBAKKAM |         85.4         |        3645        |\n",
       "| 06-11-2005 | CHEMBARAMBAKKAM |         85.4         |        3645        |\n",
       "| 07-11-2005 | CHEMBARAMBAKKAM |         85.4         |        3645        |\n",
       "| 08-11-2005 | CHEMBARAMBAKKAM |         85.4         |        3645        |\n",
       "| 09-11-2005 | CHEMBARAMBAKKAM |         85.4         |        3645        |\n",
       "| 10-11-2005 | CHEMBARAMBAKKAM |         85.4         |        3645        |\n",
       "+------------+-----------------+----------------------+--------------------+\n",
       "+------------+--------------+-----------------+------------------+---------------+\n",
       "| Level (ft) | Storage Mcft | Inflow (cusecs) | Outflow (cusecs) | Rainfall (mm) |\n",
       "+------------+--------------+-----------------+------------------+---------------+\n",
       "|    74.8    |     1259     |       278       |        0         |       3       |\n",
       "|   74.85    |     1259     |        0        |        0         |       0       |\n",
       "|    74.9    |     1268     |       104       |        0         |       2       |\n",
       "|    75.0    |     1284     |       185       |        0         |       7       |\n",
       "|   75.15    |     1310     |       301       |        0         |       40      |\n",
       "|    75.5    |     1371     |       706       |        0         |       54      |\n",
       "|    77.5    |     1739     |       4259      |        0         |      170      |\n",
       "|   79.15    |     2080     |       3900      |        0         |       52      |\n",
       "|    80.5    |     2387     |       3600      |        0         |       27      |\n",
       "|   81.35    |     2591     |       2400      |        0         |       0       |\n",
       "+------------+--------------+-----------------+------------------+---------------+\n",
       "+-------------------------------+---------------------+------+-------+-----+------+\n",
       "| Storage as on same day las... |       date_obs      | year | month | day | hour |\n",
       "+-------------------------------+---------------------+------+-------+-----+------+\n",
       "|               72              | 2005-11-01 00:00:00 | 2005 |   11  |  1  |  0   |\n",
       "|               78              | 2005-11-02 00:00:00 | 2005 |   11  |  2  |  0   |\n",
       "|               78              | 2005-11-03 00:00:00 | 2005 |   11  |  3  |  0   |\n",
       "|               78              | 2005-11-04 00:00:00 | 2005 |   11  |  4  |  0   |\n",
       "|               78              | 2005-11-05 00:00:00 | 2005 |   11  |  5  |  0   |\n",
       "|              101              | 2005-11-06 00:00:00 | 2005 |   11  |  6  |  0   |\n",
       "|              170              | 2005-11-07 00:00:00 | 2005 |   11  |  7  |  0   |\n",
       "|              250              | 2005-11-08 00:00:00 | 2005 |   11  |  8  |  0   |\n",
       "|              284              | 2005-11-09 00:00:00 | 2005 |   11  |  9  |  0   |\n",
       "|              292              | 2005-11-10 00:00:00 | 2005 |   11  |  10 |  0   |\n",
       "+-------------------------------+---------------------+------+-------+-----+------+\n",
       "+--------+--------+\n",
       "| minute | second |\n",
       "+--------+--------+\n",
       "|   0    |   0    |\n",
       "|   0    |   0    |\n",
       "|   0    |   0    |\n",
       "|   0    |   0    |\n",
       "|   0    |   0    |\n",
       "|   0    |   0    |\n",
       "|   0    |   0    |\n",
       "|   0    |   0    |\n",
       "|   0    |   0    |\n",
       "|   0    |   0    |\n",
       "+--------+--------+\n",
       "[605 rows x 17 columns]\n",
       "Note: Only the head of the SFrame is printed.\n",
       "You can use print_rows(num_rows=m, num_columns=n) to print more rows and columns."
      ]
     },
     "execution_count": 24,
     "metadata": {},
     "output_type": "execute_result"
    }
   ],
   "source": [
    "Damdata.add_columns(Damdata['date_obs'].split_datetime(column_name_prefix = ''))"
   ]
  },
  {
   "cell_type": "code",
   "execution_count": 25,
   "metadata": {
    "collapsed": false
   },
   "outputs": [
    {
     "data": {
      "text/html": [
       "<div style=\"max-height:1000px;max-width:1500px;overflow:auto;\"><table frame=\"box\" rules=\"cols\">\n",
       "    <tr>\n",
       "        <th style=\"padding-left: 1em; padding-right: 1em; text-align: center\">Date</th>\n",
       "        <th style=\"padding-left: 1em; padding-right: 1em; text-align: center\">Reservoir</th>\n",
       "        <th style=\"padding-left: 1em; padding-right: 1em; text-align: center\">Full Tank Level (ft)</th>\n",
       "        <th style=\"padding-left: 1em; padding-right: 1em; text-align: center\">Full Capacity mcft</th>\n",
       "        <th style=\"padding-left: 1em; padding-right: 1em; text-align: center\">Level (ft)</th>\n",
       "        <th style=\"padding-left: 1em; padding-right: 1em; text-align: center\">Storage Mcft</th>\n",
       "        <th style=\"padding-left: 1em; padding-right: 1em; text-align: center\">Inflow (cusecs)</th>\n",
       "    </tr>\n",
       "    <tr>\n",
       "        <td style=\"padding-left: 1em; padding-right: 1em; text-align: center; vertical-align: top\">01-11-2005</td>\n",
       "        <td style=\"padding-left: 1em; padding-right: 1em; text-align: center; vertical-align: top\">CHEMBARAMBAKKAM</td>\n",
       "        <td style=\"padding-left: 1em; padding-right: 1em; text-align: center; vertical-align: top\">85.4</td>\n",
       "        <td style=\"padding-left: 1em; padding-right: 1em; text-align: center; vertical-align: top\">3645</td>\n",
       "        <td style=\"padding-left: 1em; padding-right: 1em; text-align: center; vertical-align: top\">74.8</td>\n",
       "        <td style=\"padding-left: 1em; padding-right: 1em; text-align: center; vertical-align: top\">1259</td>\n",
       "        <td style=\"padding-left: 1em; padding-right: 1em; text-align: center; vertical-align: top\">278</td>\n",
       "    </tr>\n",
       "    <tr>\n",
       "        <td style=\"padding-left: 1em; padding-right: 1em; text-align: center; vertical-align: top\">02-11-2005</td>\n",
       "        <td style=\"padding-left: 1em; padding-right: 1em; text-align: center; vertical-align: top\">CHEMBARAMBAKKAM</td>\n",
       "        <td style=\"padding-left: 1em; padding-right: 1em; text-align: center; vertical-align: top\">85.4</td>\n",
       "        <td style=\"padding-left: 1em; padding-right: 1em; text-align: center; vertical-align: top\">3645</td>\n",
       "        <td style=\"padding-left: 1em; padding-right: 1em; text-align: center; vertical-align: top\">74.85</td>\n",
       "        <td style=\"padding-left: 1em; padding-right: 1em; text-align: center; vertical-align: top\">1259</td>\n",
       "        <td style=\"padding-left: 1em; padding-right: 1em; text-align: center; vertical-align: top\">0</td>\n",
       "    </tr>\n",
       "    <tr>\n",
       "        <td style=\"padding-left: 1em; padding-right: 1em; text-align: center; vertical-align: top\">03-11-2005</td>\n",
       "        <td style=\"padding-left: 1em; padding-right: 1em; text-align: center; vertical-align: top\">CHEMBARAMBAKKAM</td>\n",
       "        <td style=\"padding-left: 1em; padding-right: 1em; text-align: center; vertical-align: top\">85.4</td>\n",
       "        <td style=\"padding-left: 1em; padding-right: 1em; text-align: center; vertical-align: top\">3645</td>\n",
       "        <td style=\"padding-left: 1em; padding-right: 1em; text-align: center; vertical-align: top\">74.9</td>\n",
       "        <td style=\"padding-left: 1em; padding-right: 1em; text-align: center; vertical-align: top\">1268</td>\n",
       "        <td style=\"padding-left: 1em; padding-right: 1em; text-align: center; vertical-align: top\">104</td>\n",
       "    </tr>\n",
       "    <tr>\n",
       "        <td style=\"padding-left: 1em; padding-right: 1em; text-align: center; vertical-align: top\">04-11-2005</td>\n",
       "        <td style=\"padding-left: 1em; padding-right: 1em; text-align: center; vertical-align: top\">CHEMBARAMBAKKAM</td>\n",
       "        <td style=\"padding-left: 1em; padding-right: 1em; text-align: center; vertical-align: top\">85.4</td>\n",
       "        <td style=\"padding-left: 1em; padding-right: 1em; text-align: center; vertical-align: top\">3645</td>\n",
       "        <td style=\"padding-left: 1em; padding-right: 1em; text-align: center; vertical-align: top\">75.0</td>\n",
       "        <td style=\"padding-left: 1em; padding-right: 1em; text-align: center; vertical-align: top\">1284</td>\n",
       "        <td style=\"padding-left: 1em; padding-right: 1em; text-align: center; vertical-align: top\">185</td>\n",
       "    </tr>\n",
       "    <tr>\n",
       "        <td style=\"padding-left: 1em; padding-right: 1em; text-align: center; vertical-align: top\">05-11-2005</td>\n",
       "        <td style=\"padding-left: 1em; padding-right: 1em; text-align: center; vertical-align: top\">CHEMBARAMBAKKAM</td>\n",
       "        <td style=\"padding-left: 1em; padding-right: 1em; text-align: center; vertical-align: top\">85.4</td>\n",
       "        <td style=\"padding-left: 1em; padding-right: 1em; text-align: center; vertical-align: top\">3645</td>\n",
       "        <td style=\"padding-left: 1em; padding-right: 1em; text-align: center; vertical-align: top\">75.15</td>\n",
       "        <td style=\"padding-left: 1em; padding-right: 1em; text-align: center; vertical-align: top\">1310</td>\n",
       "        <td style=\"padding-left: 1em; padding-right: 1em; text-align: center; vertical-align: top\">301</td>\n",
       "    </tr>\n",
       "    <tr>\n",
       "        <td style=\"padding-left: 1em; padding-right: 1em; text-align: center; vertical-align: top\">06-11-2005</td>\n",
       "        <td style=\"padding-left: 1em; padding-right: 1em; text-align: center; vertical-align: top\">CHEMBARAMBAKKAM</td>\n",
       "        <td style=\"padding-left: 1em; padding-right: 1em; text-align: center; vertical-align: top\">85.4</td>\n",
       "        <td style=\"padding-left: 1em; padding-right: 1em; text-align: center; vertical-align: top\">3645</td>\n",
       "        <td style=\"padding-left: 1em; padding-right: 1em; text-align: center; vertical-align: top\">75.5</td>\n",
       "        <td style=\"padding-left: 1em; padding-right: 1em; text-align: center; vertical-align: top\">1371</td>\n",
       "        <td style=\"padding-left: 1em; padding-right: 1em; text-align: center; vertical-align: top\">706</td>\n",
       "    </tr>\n",
       "    <tr>\n",
       "        <td style=\"padding-left: 1em; padding-right: 1em; text-align: center; vertical-align: top\">07-11-2005</td>\n",
       "        <td style=\"padding-left: 1em; padding-right: 1em; text-align: center; vertical-align: top\">CHEMBARAMBAKKAM</td>\n",
       "        <td style=\"padding-left: 1em; padding-right: 1em; text-align: center; vertical-align: top\">85.4</td>\n",
       "        <td style=\"padding-left: 1em; padding-right: 1em; text-align: center; vertical-align: top\">3645</td>\n",
       "        <td style=\"padding-left: 1em; padding-right: 1em; text-align: center; vertical-align: top\">77.5</td>\n",
       "        <td style=\"padding-left: 1em; padding-right: 1em; text-align: center; vertical-align: top\">1739</td>\n",
       "        <td style=\"padding-left: 1em; padding-right: 1em; text-align: center; vertical-align: top\">4259</td>\n",
       "    </tr>\n",
       "    <tr>\n",
       "        <td style=\"padding-left: 1em; padding-right: 1em; text-align: center; vertical-align: top\">08-11-2005</td>\n",
       "        <td style=\"padding-left: 1em; padding-right: 1em; text-align: center; vertical-align: top\">CHEMBARAMBAKKAM</td>\n",
       "        <td style=\"padding-left: 1em; padding-right: 1em; text-align: center; vertical-align: top\">85.4</td>\n",
       "        <td style=\"padding-left: 1em; padding-right: 1em; text-align: center; vertical-align: top\">3645</td>\n",
       "        <td style=\"padding-left: 1em; padding-right: 1em; text-align: center; vertical-align: top\">79.15</td>\n",
       "        <td style=\"padding-left: 1em; padding-right: 1em; text-align: center; vertical-align: top\">2080</td>\n",
       "        <td style=\"padding-left: 1em; padding-right: 1em; text-align: center; vertical-align: top\">3900</td>\n",
       "    </tr>\n",
       "    <tr>\n",
       "        <td style=\"padding-left: 1em; padding-right: 1em; text-align: center; vertical-align: top\">09-11-2005</td>\n",
       "        <td style=\"padding-left: 1em; padding-right: 1em; text-align: center; vertical-align: top\">CHEMBARAMBAKKAM</td>\n",
       "        <td style=\"padding-left: 1em; padding-right: 1em; text-align: center; vertical-align: top\">85.4</td>\n",
       "        <td style=\"padding-left: 1em; padding-right: 1em; text-align: center; vertical-align: top\">3645</td>\n",
       "        <td style=\"padding-left: 1em; padding-right: 1em; text-align: center; vertical-align: top\">80.5</td>\n",
       "        <td style=\"padding-left: 1em; padding-right: 1em; text-align: center; vertical-align: top\">2387</td>\n",
       "        <td style=\"padding-left: 1em; padding-right: 1em; text-align: center; vertical-align: top\">3600</td>\n",
       "    </tr>\n",
       "    <tr>\n",
       "        <td style=\"padding-left: 1em; padding-right: 1em; text-align: center; vertical-align: top\">10-11-2005</td>\n",
       "        <td style=\"padding-left: 1em; padding-right: 1em; text-align: center; vertical-align: top\">CHEMBARAMBAKKAM</td>\n",
       "        <td style=\"padding-left: 1em; padding-right: 1em; text-align: center; vertical-align: top\">85.4</td>\n",
       "        <td style=\"padding-left: 1em; padding-right: 1em; text-align: center; vertical-align: top\">3645</td>\n",
       "        <td style=\"padding-left: 1em; padding-right: 1em; text-align: center; vertical-align: top\">81.35</td>\n",
       "        <td style=\"padding-left: 1em; padding-right: 1em; text-align: center; vertical-align: top\">2591</td>\n",
       "        <td style=\"padding-left: 1em; padding-right: 1em; text-align: center; vertical-align: top\">2400</td>\n",
       "    </tr>\n",
       "</table>\n",
       "<table frame=\"box\" rules=\"cols\">\n",
       "    <tr>\n",
       "        <th style=\"padding-left: 1em; padding-right: 1em; text-align: center\">Outflow (cusecs)</th>\n",
       "        <th style=\"padding-left: 1em; padding-right: 1em; text-align: center\">Rainfall (mm)</th>\n",
       "        <th style=\"padding-left: 1em; padding-right: 1em; text-align: center\">Storage as on same day<br>last year (mcft) ...</th>\n",
       "        <th style=\"padding-left: 1em; padding-right: 1em; text-align: center\">date_obs</th>\n",
       "        <th style=\"padding-left: 1em; padding-right: 1em; text-align: center\">year</th>\n",
       "        <th style=\"padding-left: 1em; padding-right: 1em; text-align: center\">month</th>\n",
       "        <th style=\"padding-left: 1em; padding-right: 1em; text-align: center\">day</th>\n",
       "    </tr>\n",
       "    <tr>\n",
       "        <td style=\"padding-left: 1em; padding-right: 1em; text-align: center; vertical-align: top\">0</td>\n",
       "        <td style=\"padding-left: 1em; padding-right: 1em; text-align: center; vertical-align: top\">3</td>\n",
       "        <td style=\"padding-left: 1em; padding-right: 1em; text-align: center; vertical-align: top\">72</td>\n",
       "        <td style=\"padding-left: 1em; padding-right: 1em; text-align: center; vertical-align: top\">2005-11-01 00:00:00</td>\n",
       "        <td style=\"padding-left: 1em; padding-right: 1em; text-align: center; vertical-align: top\">2005</td>\n",
       "        <td style=\"padding-left: 1em; padding-right: 1em; text-align: center; vertical-align: top\">11</td>\n",
       "        <td style=\"padding-left: 1em; padding-right: 1em; text-align: center; vertical-align: top\">1</td>\n",
       "    </tr>\n",
       "    <tr>\n",
       "        <td style=\"padding-left: 1em; padding-right: 1em; text-align: center; vertical-align: top\">0</td>\n",
       "        <td style=\"padding-left: 1em; padding-right: 1em; text-align: center; vertical-align: top\">0</td>\n",
       "        <td style=\"padding-left: 1em; padding-right: 1em; text-align: center; vertical-align: top\">78</td>\n",
       "        <td style=\"padding-left: 1em; padding-right: 1em; text-align: center; vertical-align: top\">2005-11-02 00:00:00</td>\n",
       "        <td style=\"padding-left: 1em; padding-right: 1em; text-align: center; vertical-align: top\">2005</td>\n",
       "        <td style=\"padding-left: 1em; padding-right: 1em; text-align: center; vertical-align: top\">11</td>\n",
       "        <td style=\"padding-left: 1em; padding-right: 1em; text-align: center; vertical-align: top\">2</td>\n",
       "    </tr>\n",
       "    <tr>\n",
       "        <td style=\"padding-left: 1em; padding-right: 1em; text-align: center; vertical-align: top\">0</td>\n",
       "        <td style=\"padding-left: 1em; padding-right: 1em; text-align: center; vertical-align: top\">2</td>\n",
       "        <td style=\"padding-left: 1em; padding-right: 1em; text-align: center; vertical-align: top\">78</td>\n",
       "        <td style=\"padding-left: 1em; padding-right: 1em; text-align: center; vertical-align: top\">2005-11-03 00:00:00</td>\n",
       "        <td style=\"padding-left: 1em; padding-right: 1em; text-align: center; vertical-align: top\">2005</td>\n",
       "        <td style=\"padding-left: 1em; padding-right: 1em; text-align: center; vertical-align: top\">11</td>\n",
       "        <td style=\"padding-left: 1em; padding-right: 1em; text-align: center; vertical-align: top\">3</td>\n",
       "    </tr>\n",
       "    <tr>\n",
       "        <td style=\"padding-left: 1em; padding-right: 1em; text-align: center; vertical-align: top\">0</td>\n",
       "        <td style=\"padding-left: 1em; padding-right: 1em; text-align: center; vertical-align: top\">7</td>\n",
       "        <td style=\"padding-left: 1em; padding-right: 1em; text-align: center; vertical-align: top\">78</td>\n",
       "        <td style=\"padding-left: 1em; padding-right: 1em; text-align: center; vertical-align: top\">2005-11-04 00:00:00</td>\n",
       "        <td style=\"padding-left: 1em; padding-right: 1em; text-align: center; vertical-align: top\">2005</td>\n",
       "        <td style=\"padding-left: 1em; padding-right: 1em; text-align: center; vertical-align: top\">11</td>\n",
       "        <td style=\"padding-left: 1em; padding-right: 1em; text-align: center; vertical-align: top\">4</td>\n",
       "    </tr>\n",
       "    <tr>\n",
       "        <td style=\"padding-left: 1em; padding-right: 1em; text-align: center; vertical-align: top\">0</td>\n",
       "        <td style=\"padding-left: 1em; padding-right: 1em; text-align: center; vertical-align: top\">40</td>\n",
       "        <td style=\"padding-left: 1em; padding-right: 1em; text-align: center; vertical-align: top\">78</td>\n",
       "        <td style=\"padding-left: 1em; padding-right: 1em; text-align: center; vertical-align: top\">2005-11-05 00:00:00</td>\n",
       "        <td style=\"padding-left: 1em; padding-right: 1em; text-align: center; vertical-align: top\">2005</td>\n",
       "        <td style=\"padding-left: 1em; padding-right: 1em; text-align: center; vertical-align: top\">11</td>\n",
       "        <td style=\"padding-left: 1em; padding-right: 1em; text-align: center; vertical-align: top\">5</td>\n",
       "    </tr>\n",
       "    <tr>\n",
       "        <td style=\"padding-left: 1em; padding-right: 1em; text-align: center; vertical-align: top\">0</td>\n",
       "        <td style=\"padding-left: 1em; padding-right: 1em; text-align: center; vertical-align: top\">54</td>\n",
       "        <td style=\"padding-left: 1em; padding-right: 1em; text-align: center; vertical-align: top\">101</td>\n",
       "        <td style=\"padding-left: 1em; padding-right: 1em; text-align: center; vertical-align: top\">2005-11-06 00:00:00</td>\n",
       "        <td style=\"padding-left: 1em; padding-right: 1em; text-align: center; vertical-align: top\">2005</td>\n",
       "        <td style=\"padding-left: 1em; padding-right: 1em; text-align: center; vertical-align: top\">11</td>\n",
       "        <td style=\"padding-left: 1em; padding-right: 1em; text-align: center; vertical-align: top\">6</td>\n",
       "    </tr>\n",
       "    <tr>\n",
       "        <td style=\"padding-left: 1em; padding-right: 1em; text-align: center; vertical-align: top\">0</td>\n",
       "        <td style=\"padding-left: 1em; padding-right: 1em; text-align: center; vertical-align: top\">170</td>\n",
       "        <td style=\"padding-left: 1em; padding-right: 1em; text-align: center; vertical-align: top\">170</td>\n",
       "        <td style=\"padding-left: 1em; padding-right: 1em; text-align: center; vertical-align: top\">2005-11-07 00:00:00</td>\n",
       "        <td style=\"padding-left: 1em; padding-right: 1em; text-align: center; vertical-align: top\">2005</td>\n",
       "        <td style=\"padding-left: 1em; padding-right: 1em; text-align: center; vertical-align: top\">11</td>\n",
       "        <td style=\"padding-left: 1em; padding-right: 1em; text-align: center; vertical-align: top\">7</td>\n",
       "    </tr>\n",
       "    <tr>\n",
       "        <td style=\"padding-left: 1em; padding-right: 1em; text-align: center; vertical-align: top\">0</td>\n",
       "        <td style=\"padding-left: 1em; padding-right: 1em; text-align: center; vertical-align: top\">52</td>\n",
       "        <td style=\"padding-left: 1em; padding-right: 1em; text-align: center; vertical-align: top\">250</td>\n",
       "        <td style=\"padding-left: 1em; padding-right: 1em; text-align: center; vertical-align: top\">2005-11-08 00:00:00</td>\n",
       "        <td style=\"padding-left: 1em; padding-right: 1em; text-align: center; vertical-align: top\">2005</td>\n",
       "        <td style=\"padding-left: 1em; padding-right: 1em; text-align: center; vertical-align: top\">11</td>\n",
       "        <td style=\"padding-left: 1em; padding-right: 1em; text-align: center; vertical-align: top\">8</td>\n",
       "    </tr>\n",
       "    <tr>\n",
       "        <td style=\"padding-left: 1em; padding-right: 1em; text-align: center; vertical-align: top\">0</td>\n",
       "        <td style=\"padding-left: 1em; padding-right: 1em; text-align: center; vertical-align: top\">27</td>\n",
       "        <td style=\"padding-left: 1em; padding-right: 1em; text-align: center; vertical-align: top\">284</td>\n",
       "        <td style=\"padding-left: 1em; padding-right: 1em; text-align: center; vertical-align: top\">2005-11-09 00:00:00</td>\n",
       "        <td style=\"padding-left: 1em; padding-right: 1em; text-align: center; vertical-align: top\">2005</td>\n",
       "        <td style=\"padding-left: 1em; padding-right: 1em; text-align: center; vertical-align: top\">11</td>\n",
       "        <td style=\"padding-left: 1em; padding-right: 1em; text-align: center; vertical-align: top\">9</td>\n",
       "    </tr>\n",
       "    <tr>\n",
       "        <td style=\"padding-left: 1em; padding-right: 1em; text-align: center; vertical-align: top\">0</td>\n",
       "        <td style=\"padding-left: 1em; padding-right: 1em; text-align: center; vertical-align: top\">0</td>\n",
       "        <td style=\"padding-left: 1em; padding-right: 1em; text-align: center; vertical-align: top\">292</td>\n",
       "        <td style=\"padding-left: 1em; padding-right: 1em; text-align: center; vertical-align: top\">2005-11-10 00:00:00</td>\n",
       "        <td style=\"padding-left: 1em; padding-right: 1em; text-align: center; vertical-align: top\">2005</td>\n",
       "        <td style=\"padding-left: 1em; padding-right: 1em; text-align: center; vertical-align: top\">11</td>\n",
       "        <td style=\"padding-left: 1em; padding-right: 1em; text-align: center; vertical-align: top\">10</td>\n",
       "    </tr>\n",
       "</table>\n",
       "[605 rows x 14 columns]<br/>Note: Only the head of the SFrame is printed.<br/>You can use print_rows(num_rows=m, num_columns=n) to print more rows and columns.\n",
       "</div>"
      ],
      "text/plain": [
       "Columns:\n",
       "\tDate\tstr\n",
       "\tReservoir\tstr\n",
       "\tFull Tank Level (ft)\tfloat\n",
       "\tFull Capacity mcft\tint\n",
       "\tLevel (ft)\tfloat\n",
       "\tStorage Mcft\tint\n",
       "\tInflow (cusecs)\tint\n",
       "\tOutflow (cusecs)\tint\n",
       "\tRainfall (mm)\tint\n",
       "\tStorage as on same day last year (mcft)\tint\n",
       "\tdate_obs\tdatetime\n",
       "\tyear\tint\n",
       "\tmonth\tint\n",
       "\tday\tint\n",
       "\n",
       "Rows: 605\n",
       "\n",
       "Data:\n",
       "+------------+-----------------+----------------------+--------------------+\n",
       "|    Date    |    Reservoir    | Full Tank Level (ft) | Full Capacity mcft |\n",
       "+------------+-----------------+----------------------+--------------------+\n",
       "| 01-11-2005 | CHEMBARAMBAKKAM |         85.4         |        3645        |\n",
       "| 02-11-2005 | CHEMBARAMBAKKAM |         85.4         |        3645        |\n",
       "| 03-11-2005 | CHEMBARAMBAKKAM |         85.4         |        3645        |\n",
       "| 04-11-2005 | CHEMBARAMBAKKAM |         85.4         |        3645        |\n",
       "| 05-11-2005 | CHEMBARAMBAKKAM |         85.4         |        3645        |\n",
       "| 06-11-2005 | CHEMBARAMBAKKAM |         85.4         |        3645        |\n",
       "| 07-11-2005 | CHEMBARAMBAKKAM |         85.4         |        3645        |\n",
       "| 08-11-2005 | CHEMBARAMBAKKAM |         85.4         |        3645        |\n",
       "| 09-11-2005 | CHEMBARAMBAKKAM |         85.4         |        3645        |\n",
       "| 10-11-2005 | CHEMBARAMBAKKAM |         85.4         |        3645        |\n",
       "+------------+-----------------+----------------------+--------------------+\n",
       "+------------+--------------+-----------------+------------------+---------------+\n",
       "| Level (ft) | Storage Mcft | Inflow (cusecs) | Outflow (cusecs) | Rainfall (mm) |\n",
       "+------------+--------------+-----------------+------------------+---------------+\n",
       "|    74.8    |     1259     |       278       |        0         |       3       |\n",
       "|   74.85    |     1259     |        0        |        0         |       0       |\n",
       "|    74.9    |     1268     |       104       |        0         |       2       |\n",
       "|    75.0    |     1284     |       185       |        0         |       7       |\n",
       "|   75.15    |     1310     |       301       |        0         |       40      |\n",
       "|    75.5    |     1371     |       706       |        0         |       54      |\n",
       "|    77.5    |     1739     |       4259      |        0         |      170      |\n",
       "|   79.15    |     2080     |       3900      |        0         |       52      |\n",
       "|    80.5    |     2387     |       3600      |        0         |       27      |\n",
       "|   81.35    |     2591     |       2400      |        0         |       0       |\n",
       "+------------+--------------+-----------------+------------------+---------------+\n",
       "+-------------------------------+---------------------+------+-------+-----+\n",
       "| Storage as on same day las... |       date_obs      | year | month | day |\n",
       "+-------------------------------+---------------------+------+-------+-----+\n",
       "|               72              | 2005-11-01 00:00:00 | 2005 |   11  |  1  |\n",
       "|               78              | 2005-11-02 00:00:00 | 2005 |   11  |  2  |\n",
       "|               78              | 2005-11-03 00:00:00 | 2005 |   11  |  3  |\n",
       "|               78              | 2005-11-04 00:00:00 | 2005 |   11  |  4  |\n",
       "|               78              | 2005-11-05 00:00:00 | 2005 |   11  |  5  |\n",
       "|              101              | 2005-11-06 00:00:00 | 2005 |   11  |  6  |\n",
       "|              170              | 2005-11-07 00:00:00 | 2005 |   11  |  7  |\n",
       "|              250              | 2005-11-08 00:00:00 | 2005 |   11  |  8  |\n",
       "|              284              | 2005-11-09 00:00:00 | 2005 |   11  |  9  |\n",
       "|              292              | 2005-11-10 00:00:00 | 2005 |   11  |  10 |\n",
       "+-------------------------------+---------------------+------+-------+-----+\n",
       "[605 rows x 14 columns]\n",
       "Note: Only the head of the SFrame is printed.\n",
       "You can use print_rows(num_rows=m, num_columns=n) to print more rows and columns."
      ]
     },
     "execution_count": 25,
     "metadata": {},
     "output_type": "execute_result"
    }
   ],
   "source": [
    "Damdata.remove_column('hour')\n",
    "Damdata.remove_column('minute')\n",
    "Damdata.remove_column('second')"
   ]
  },
  {
   "cell_type": "code",
   "execution_count": 26,
   "metadata": {
    "collapsed": false
   },
   "outputs": [
    {
     "data": {
      "application/javascript": [
       "$(\"head\").append($(\"<link/>\").attr({\n",
       "  rel:  \"stylesheet\",\n",
       "  type: \"text/css\",\n",
       "  href: \"//cdnjs.cloudflare.com/ajax/libs/font-awesome/4.1.0/css/font-awesome.min.css\"\n",
       "}));\n",
       "$(\"head\").append($(\"<link/>\").attr({\n",
       "  rel:  \"stylesheet\",\n",
       "  type: \"text/css\",\n",
       "  href: \"https://static.turi.com/products/graphlab-create/2.1/canvas/css/canvas.css\"\n",
       "}));\n",
       "\n",
       "            (function(){\n",
       "\n",
       "                var e = null;\n",
       "                if (typeof element == 'undefined') {\n",
       "                    var scripts = document.getElementsByTagName('script');\n",
       "                    var thisScriptTag = scripts[scripts.length-1];\n",
       "                    var parentDiv = thisScriptTag.parentNode;\n",
       "                    e = document.createElement('div');\n",
       "                    parentDiv.appendChild(e);\n",
       "                } else {\n",
       "                    e = element[0];\n",
       "                }\n",
       "\n",
       "                if (typeof requirejs !== 'undefined') {\n",
       "                    // disable load timeout; ipython_app.js is large and can take a while to load.\n",
       "                    requirejs.config({waitSeconds: 0});\n",
       "                }\n",
       "\n",
       "                require(['https://static.turi.com/products/graphlab-create/2.1/canvas/js/ipython_app.js'], function(IPythonApp){\n",
       "                    var app = new IPythonApp();\n",
       "                    app.attachView('sframe','Plots', {\"selected_variable\": {\"name\": [\"Damdata\"], \"descriptives\": {\"rows\": 605, \"columns\": 14}, \"view_component\": \"Plots\", \"view_file\": \"sframe\", \"view_params\": {\"y\": \"Outflow (cusecs)\", \"x\": \"year\", \"columns\": [\"Date\", \"Reservoir\", \"Full Tank Level (ft)\", \"Full Capacity mcft\", \"Level (ft)\", \"Storage Mcft\", \"Inflow (cusecs)\", \"Outflow (cusecs)\", \"Rainfall (mm)\", \"Storage as on same day last year (mcft)\", \"date_obs\", \"year\", \"month\", \"day\"], \"view\": \"Bar Chart\"}, \"view_components\": [\"Summary\", \"Table\", \"Bar Chart\", \"BoxWhisker Plot\", \"Line Chart\", \"Scatter Plot\", \"Heat Map\", \"Plots\"], \"type\": \"SFrame\", \"columns\": [{\"dtype\": \"str\", \"name\": \"Date\"}, {\"dtype\": \"str\", \"name\": \"Reservoir\"}, {\"dtype\": \"float\", \"name\": \"Full Tank Level (ft)\"}, {\"dtype\": \"int\", \"name\": \"Full Capacity mcft\"}, {\"dtype\": \"float\", \"name\": \"Level (ft)\"}, {\"dtype\": \"int\", \"name\": \"Storage Mcft\"}, {\"dtype\": \"int\", \"name\": \"Inflow (cusecs)\"}, {\"dtype\": \"int\", \"name\": \"Outflow (cusecs)\"}, {\"dtype\": \"int\", \"name\": \"Rainfall (mm)\"}, {\"dtype\": \"int\", \"name\": \"Storage as on same day last year (mcft)\"}, {\"dtype\": \"datetime\", \"name\": \"date_obs\"}, {\"dtype\": \"int\", \"name\": \"year\"}, {\"dtype\": \"int\", \"name\": \"month\"}, {\"dtype\": \"int\", \"name\": \"day\"}], \"column_identifiers\": [\"Storage as on same day last year (mcft)\", \"date_obs\", \"Reservoir\", \"Level (ft)\", \"Outflow (cusecs)\", \"Full Tank Level (ft)\", \"Storage Mcft\", \"Inflow (cusecs)\", \"year\", \"Date\", \"Rainfall (mm)\", \"month\", \"day\", \"Full Capacity mcft\"]}, \"complete\": 1, \"ipython\": true, \"progress\": 1.0, \"data\": {\"grouped\": [[2005, {\"count\": 61, \"std\": 2584.771311054192, \"min\": 0, \"max\": 12000, \"sum\": 78300, \"var\": 6681042.730448807, \"mean\": 1283.6065573770495}], [2008, {\"count\": 61, \"std\": 1186.196158988937, \"min\": 70, \"max\": 8000, \"sum\": 23240, \"var\": 1407061.3276001075, \"mean\": 380.98360655737713}], [2009, {\"count\": 61, \"std\": 4.398822250819255, \"min\": 60, \"max\": 70, \"sum\": 3820, \"var\": 19.34963719430258, \"mean\": 62.62295081967211}], [2010, {\"count\": 61, \"std\": 144.39074944258084, \"min\": 93, \"max\": 1093, \"sum\": 7625, \"var\": 20848.68852459016, \"mean\": 125.00000000000001}], [2011, {\"count\": 61, \"std\": 756.1131317418545, \"min\": 110, \"max\": 4650, \"sum\": 24555, \"var\": 571707.0679924751, \"mean\": 402.54098360655746}], [2012, {\"count\": 61, \"std\": 16.608830941739296, \"min\": 15, \"max\": 135, \"sum\": 5585, \"var\": 275.85326525127664, \"mean\": 91.55737704918032}], [2013, {\"count\": 61, \"std\": 11.991285019559708, \"min\": 17, \"max\": 84, \"sum\": 3446, \"var\": 143.79091642031707, \"mean\": 56.491803278688515}], [2014, {\"count\": 61, \"std\": 7.558781562884265, \"min\": 70, \"max\": 113, \"sum\": 5215, \"var\": 57.13517871539909, \"mean\": 85.49180327868852}], [2015, {\"count\": 61, \"std\": 4558.780927420021, \"min\": 46, \"max\": 29000, \"sum\": 108038, \"var\": 20782483.544208545, \"mean\": 1771.114754098361}], [2016, {\"count\": 46, \"std\": 32.23256258408939, \"min\": 54, \"max\": 151, \"sum\": 5317, \"var\": 1038.9380907372395, \"mean\": 115.58695652173913}], [2017, {\"count\": 10, \"std\": 14.97364351118324, \"min\": 28, \"max\": 73, \"sum\": 587, \"var\": 224.20999999999998, \"mean\": 58.7}]], \"omitted\": 0}, \"columns\": [{\"dtype\": \"str\", \"name\": \"Date\"}, {\"dtype\": \"str\", \"name\": \"Reservoir\"}, {\"dtype\": \"float\", \"name\": \"Full Tank Level (ft)\"}, {\"dtype\": \"int\", \"name\": \"Full Capacity mcft\"}, {\"dtype\": \"float\", \"name\": \"Level (ft)\"}, {\"dtype\": \"int\", \"name\": \"Storage Mcft\"}, {\"dtype\": \"int\", \"name\": \"Inflow (cusecs)\"}, {\"dtype\": \"int\", \"name\": \"Outflow (cusecs)\"}, {\"dtype\": \"int\", \"name\": \"Rainfall (mm)\"}, {\"dtype\": \"int\", \"name\": \"Storage as on same day last year (mcft)\"}, {\"dtype\": \"datetime\", \"name\": \"date_obs\"}, {\"dtype\": \"int\", \"name\": \"year\"}, {\"dtype\": \"int\", \"name\": \"month\"}, {\"dtype\": \"int\", \"name\": \"day\"}]}, e);\n",
       "                });\n",
       "            })();\n",
       "        "
      ]
     },
     "metadata": {},
     "output_type": "display_data"
    },
    {
     "data": {
      "application/javascript": [
       "$(\"head\").append($(\"<link/>\").attr({\n",
       "  rel:  \"stylesheet\",\n",
       "  type: \"text/css\",\n",
       "  href: \"//cdnjs.cloudflare.com/ajax/libs/font-awesome/4.1.0/css/font-awesome.min.css\"\n",
       "}));\n",
       "$(\"head\").append($(\"<link/>\").attr({\n",
       "  rel:  \"stylesheet\",\n",
       "  type: \"text/css\",\n",
       "  href: \"https://static.turi.com/products/graphlab-create/2.1/canvas/css/canvas.css\"\n",
       "}));\n",
       "\n",
       "            (function(){\n",
       "\n",
       "                var e = null;\n",
       "                if (typeof element == 'undefined') {\n",
       "                    var scripts = document.getElementsByTagName('script');\n",
       "                    var thisScriptTag = scripts[scripts.length-1];\n",
       "                    var parentDiv = thisScriptTag.parentNode;\n",
       "                    e = document.createElement('div');\n",
       "                    parentDiv.appendChild(e);\n",
       "                } else {\n",
       "                    e = element[0];\n",
       "                }\n",
       "\n",
       "                if (typeof requirejs !== 'undefined') {\n",
       "                    // disable load timeout; ipython_app.js is large and can take a while to load.\n",
       "                    requirejs.config({waitSeconds: 0});\n",
       "                }\n",
       "\n",
       "                require(['https://static.turi.com/products/graphlab-create/2.1/canvas/js/ipython_app.js'], function(IPythonApp){\n",
       "                    var app = new IPythonApp();\n",
       "                    app.attachView('sframe','Plots', {\"selected_variable\": {\"name\": [\"Damdata\"], \"descriptives\": {\"rows\": 605, \"columns\": 14}, \"view_component\": \"Plots\", \"view_file\": \"sframe\", \"view_params\": {\"y\": \"Rainfall (mm)\", \"x\": \"year\", \"columns\": [\"Date\", \"Reservoir\", \"Full Tank Level (ft)\", \"Full Capacity mcft\", \"Level (ft)\", \"Storage Mcft\", \"Inflow (cusecs)\", \"Outflow (cusecs)\", \"Rainfall (mm)\", \"Storage as on same day last year (mcft)\", \"date_obs\", \"year\", \"month\", \"day\"], \"view\": \"Bar Chart\"}, \"view_components\": [\"Summary\", \"Table\", \"Bar Chart\", \"BoxWhisker Plot\", \"Line Chart\", \"Scatter Plot\", \"Heat Map\", \"Plots\"], \"type\": \"SFrame\", \"columns\": [{\"dtype\": \"str\", \"name\": \"Date\"}, {\"dtype\": \"str\", \"name\": \"Reservoir\"}, {\"dtype\": \"float\", \"name\": \"Full Tank Level (ft)\"}, {\"dtype\": \"int\", \"name\": \"Full Capacity mcft\"}, {\"dtype\": \"float\", \"name\": \"Level (ft)\"}, {\"dtype\": \"int\", \"name\": \"Storage Mcft\"}, {\"dtype\": \"int\", \"name\": \"Inflow (cusecs)\"}, {\"dtype\": \"int\", \"name\": \"Outflow (cusecs)\"}, {\"dtype\": \"int\", \"name\": \"Rainfall (mm)\"}, {\"dtype\": \"int\", \"name\": \"Storage as on same day last year (mcft)\"}, {\"dtype\": \"datetime\", \"name\": \"date_obs\"}, {\"dtype\": \"int\", \"name\": \"year\"}, {\"dtype\": \"int\", \"name\": \"month\"}, {\"dtype\": \"int\", \"name\": \"day\"}], \"column_identifiers\": [\"Storage as on same day last year (mcft)\", \"date_obs\", \"Reservoir\", \"Level (ft)\", \"Outflow (cusecs)\", \"Full Tank Level (ft)\", \"Storage Mcft\", \"Inflow (cusecs)\", \"year\", \"Date\", \"Rainfall (mm)\", \"month\", \"day\", \"Full Capacity mcft\"]}, \"complete\": 1, \"ipython\": true, \"progress\": 1.0, \"data\": {\"grouped\": [[2005, {\"count\": 61, \"std\": 41.00721287358154, \"min\": 0, \"max\": 255, \"sum\": 1018, \"var\": 1681.5915076592312, \"mean\": 16.688524590163937}], [2008, {\"count\": 61, \"std\": 36.628688808899206, \"min\": 0, \"max\": 236, \"sum\": 656, \"var\": 1341.6608438591782, \"mean\": 10.754098360655735}], [2009, {\"count\": 61, \"std\": 35.49990821022915, \"min\": 0, \"max\": 151, \"sum\": 1095, \"var\": 1260.243482934695, \"mean\": 17.95081967213115}], [2010, {\"count\": 61, \"std\": 17.267828733346967, \"min\": 0, \"max\": 75, \"sum\": 552, \"var\": 298.1779091642031, \"mean\": 9.049180327868854}], [2011, {\"count\": 61, \"std\": 22.103856883264264, \"min\": 0, \"max\": 86, \"sum\": 677, \"var\": 488.58048911582904, \"mean\": 11.098360655737705}], [2012, {\"count\": 61, \"std\": 13.271096797639165, \"min\": 0, \"max\": 93, \"sum\": 203, \"var\": 176.1220102123085, \"mean\": 3.327868852459017}], [2013, {\"count\": 61, \"std\": 17.383899052025345, \"min\": 0, \"max\": 125, \"sum\": 251, \"var\": 302.19994625100765, \"mean\": 4.114754098360657}], [2014, {\"count\": 61, \"std\": 15.686991377193834, \"min\": 0, \"max\": 82, \"sum\": 304, \"var\": 246.08169846815372, \"mean\": 4.983606557377049}], [2015, {\"count\": 61, \"std\": 73.96045123725578, \"min\": 0, \"max\": 475, \"sum\": 1735, \"var\": 5470.14834721849, \"mean\": 28.44262295081968}], [2016, {\"count\": 46, \"std\": 32.31044035239377, \"min\": 0, \"max\": 214, \"sum\": 379, \"var\": 1043.9645557655954, \"mean\": 8.239130434782608}], [2017, {\"count\": 10, \"std\": 20.3066491573573, \"min\": 0, \"max\": 69, \"sum\": 242, \"var\": 412.35999999999996, \"mean\": 24.2}]], \"omitted\": 0}, \"columns\": [{\"dtype\": \"str\", \"name\": \"Date\"}, {\"dtype\": \"str\", \"name\": \"Reservoir\"}, {\"dtype\": \"float\", \"name\": \"Full Tank Level (ft)\"}, {\"dtype\": \"int\", \"name\": \"Full Capacity mcft\"}, {\"dtype\": \"float\", \"name\": \"Level (ft)\"}, {\"dtype\": \"int\", \"name\": \"Storage Mcft\"}, {\"dtype\": \"int\", \"name\": \"Inflow (cusecs)\"}, {\"dtype\": \"int\", \"name\": \"Outflow (cusecs)\"}, {\"dtype\": \"int\", \"name\": \"Rainfall (mm)\"}, {\"dtype\": \"int\", \"name\": \"Storage as on same day last year (mcft)\"}, {\"dtype\": \"datetime\", \"name\": \"date_obs\"}, {\"dtype\": \"int\", \"name\": \"year\"}, {\"dtype\": \"int\", \"name\": \"month\"}, {\"dtype\": \"int\", \"name\": \"day\"}]}, e);\n",
       "                });\n",
       "            })();\n",
       "        "
      ]
     },
     "metadata": {},
     "output_type": "display_data"
    }
   ],
   "source": [
    "Damdata.show(view=\"Bar Chart\", x=\"year\", y=\"Outflow (cusecs)\")\n",
    "Damdata.show(view=\"Bar Chart\", x=\"year\", y=\"Rainfall (mm)\")\n"
   ]
  },
  {
   "cell_type": "markdown",
   "metadata": {},
   "source": [
    "## Prediction with Regression Analysis"
   ]
  },
  {
   "cell_type": "code",
   "execution_count": 29,
   "metadata": {
    "collapsed": true
   },
   "outputs": [],
   "source": [
    "train_data,test_data = Damdata.random_split(.8,seed=0)"
   ]
  },
  {
   "cell_type": "code",
   "execution_count": 30,
   "metadata": {
    "collapsed": false
   },
   "outputs": [
    {
     "data": {
      "text/html": [
       "<pre>Linear regression:</pre>"
      ],
      "text/plain": [
       "Linear regression:"
      ]
     },
     "metadata": {},
     "output_type": "display_data"
    },
    {
     "data": {
      "text/html": [
       "<pre>--------------------------------------------------------</pre>"
      ],
      "text/plain": [
       "--------------------------------------------------------"
      ]
     },
     "metadata": {},
     "output_type": "display_data"
    },
    {
     "data": {
      "text/html": [
       "<pre>Number of examples          : 476</pre>"
      ],
      "text/plain": [
       "Number of examples          : 476"
      ]
     },
     "metadata": {},
     "output_type": "display_data"
    },
    {
     "data": {
      "text/html": [
       "<pre>Number of features          : 1</pre>"
      ],
      "text/plain": [
       "Number of features          : 1"
      ]
     },
     "metadata": {},
     "output_type": "display_data"
    },
    {
     "data": {
      "text/html": [
       "<pre>Number of unpacked features : 1</pre>"
      ],
      "text/plain": [
       "Number of unpacked features : 1"
      ]
     },
     "metadata": {},
     "output_type": "display_data"
    },
    {
     "data": {
      "text/html": [
       "<pre>Number of coefficients    : 2</pre>"
      ],
      "text/plain": [
       "Number of coefficients    : 2"
      ]
     },
     "metadata": {},
     "output_type": "display_data"
    },
    {
     "data": {
      "text/html": [
       "<pre>Starting Newton Method</pre>"
      ],
      "text/plain": [
       "Starting Newton Method"
      ]
     },
     "metadata": {},
     "output_type": "display_data"
    },
    {
     "data": {
      "text/html": [
       "<pre>--------------------------------------------------------</pre>"
      ],
      "text/plain": [
       "--------------------------------------------------------"
      ]
     },
     "metadata": {},
     "output_type": "display_data"
    },
    {
     "data": {
      "text/html": [
       "<pre>+-----------+----------+--------------+--------------------+---------------+</pre>"
      ],
      "text/plain": [
       "+-----------+----------+--------------+--------------------+---------------+"
      ]
     },
     "metadata": {},
     "output_type": "display_data"
    },
    {
     "data": {
      "text/html": [
       "<pre>| Iteration | Passes   | Elapsed Time | Training-max_error | Training-rmse |</pre>"
      ],
      "text/plain": [
       "| Iteration | Passes   | Elapsed Time | Training-max_error | Training-rmse |"
      ]
     },
     "metadata": {},
     "output_type": "display_data"
    },
    {
     "data": {
      "text/html": [
       "<pre>+-----------+----------+--------------+--------------------+---------------+</pre>"
      ],
      "text/plain": [
       "+-----------+----------+--------------+--------------------+---------------+"
      ]
     },
     "metadata": {},
     "output_type": "display_data"
    },
    {
     "data": {
      "text/html": [
       "<pre>| 1         | 2        | 0.000000     | 17104.526275       | 1501.162035   |</pre>"
      ],
      "text/plain": [
       "| 1         | 2        | 0.000000     | 17104.526275       | 1501.162035   |"
      ]
     },
     "metadata": {},
     "output_type": "display_data"
    },
    {
     "data": {
      "text/html": [
       "<pre>+-----------+----------+--------------+--------------------+---------------+</pre>"
      ],
      "text/plain": [
       "+-----------+----------+--------------+--------------------+---------------+"
      ]
     },
     "metadata": {},
     "output_type": "display_data"
    },
    {
     "data": {
      "text/html": [
       "<pre>SUCCESS: Optimal solution found.</pre>"
      ],
      "text/plain": [
       "SUCCESS: Optimal solution found."
      ]
     },
     "metadata": {},
     "output_type": "display_data"
    },
    {
     "data": {
      "text/html": [
       "<pre></pre>"
      ],
      "text/plain": []
     },
     "metadata": {},
     "output_type": "display_data"
    }
   ],
   "source": [
    "Rainfall_only_model = graphlab.linear_regression.create(train_data, target='Outflow (cusecs)', features=['Rainfall (mm)'],validation_set=None)"
   ]
  },
  {
   "cell_type": "code",
   "execution_count": 31,
   "metadata": {
    "collapsed": false
   },
   "outputs": [
    {
     "name": "stdout",
     "output_type": "stream",
     "text": [
      "{'max_error': 10546.926029058945, 'rmse': 1868.6393902574985}\n"
     ]
    }
   ],
   "source": [
    "print Rainfall_only_model.evaluate(test_data)"
   ]
  },
  {
   "cell_type": "code",
   "execution_count": 32,
   "metadata": {
    "collapsed": false
   },
   "outputs": [
    {
     "name": "stdout",
     "output_type": "stream",
     "text": [
      "392.627906977\n"
     ]
    }
   ],
   "source": [
    "print test_data['Outflow (cusecs)'].mean()"
   ]
  },
  {
   "cell_type": "code",
   "execution_count": 33,
   "metadata": {
    "collapsed": true
   },
   "outputs": [],
   "source": [
    "import matplotlib.pyplot as plt\n",
    "%matplotlib inline"
   ]
  },
  {
   "cell_type": "code",
   "execution_count": 34,
   "metadata": {
    "collapsed": false
   },
   "outputs": [
    {
     "data": {
      "text/plain": [
       "[<matplotlib.lines.Line2D at 0x2a6b1a20>,\n",
       " <matplotlib.lines.Line2D at 0x2a6b1ac8>]"
      ]
     },
     "execution_count": 34,
     "metadata": {},
     "output_type": "execute_result"
    },
    {
     "data": {
      "image/png": "[encoded data removed]",
      "text/plain": [
       "<matplotlib.figure.Figure at 0x2a5645c0>"
      ]
     },
     "metadata": {},
     "output_type": "display_data"
    }
   ],
   "source": [
    "plt.plot(test_data['Rainfall (mm)'],test_data['Outflow (cusecs)'],'.',\n",
    "        test_data['Rainfall (mm)'],Rainfall_only_model.predict(test_data),'-')"
   ]
  },
  {
   "cell_type": "code",
   "execution_count": 35,
   "metadata": {
    "collapsed": false
   },
   "outputs": [
    {
     "data": {
      "text/html": [
       "<pre>Linear regression:</pre>"
      ],
      "text/plain": [
       "Linear regression:"
      ]
     },
     "metadata": {},
     "output_type": "display_data"
    },
    {
     "data": {
      "text/html": [
       "<pre>--------------------------------------------------------</pre>"
      ],
      "text/plain": [
       "--------------------------------------------------------"
      ]
     },
     "metadata": {},
     "output_type": "display_data"
    },
    {
     "data": {
      "text/html": [
       "<pre>Number of examples          : 476</pre>"
      ],
      "text/plain": [
       "Number of examples          : 476"
      ]
     },
     "metadata": {},
     "output_type": "display_data"
    },
    {
     "data": {
      "text/html": [
       "<pre>Number of features          : 7</pre>"
      ],
      "text/plain": [
       "Number of features          : 7"
      ]
     },
     "metadata": {},
     "output_type": "display_data"
    },
    {
     "data": {
      "text/html": [
       "<pre>Number of unpacked features : 7</pre>"
      ],
      "text/plain": [
       "Number of unpacked features : 7"
      ]
     },
     "metadata": {},
     "output_type": "display_data"
    },
    {
     "data": {
      "text/html": [
       "<pre>Number of coefficients    : 8</pre>"
      ],
      "text/plain": [
       "Number of coefficients    : 8"
      ]
     },
     "metadata": {},
     "output_type": "display_data"
    },
    {
     "data": {
      "text/html": [
       "<pre>Starting Newton Method</pre>"
      ],
      "text/plain": [
       "Starting Newton Method"
      ]
     },
     "metadata": {},
     "output_type": "display_data"
    },
    {
     "data": {
      "text/html": [
       "<pre>--------------------------------------------------------</pre>"
      ],
      "text/plain": [
       "--------------------------------------------------------"
      ]
     },
     "metadata": {},
     "output_type": "display_data"
    },
    {
     "data": {
      "text/html": [
       "<pre>+-----------+----------+--------------+--------------------+---------------+</pre>"
      ],
      "text/plain": [
       "+-----------+----------+--------------+--------------------+---------------+"
      ]
     },
     "metadata": {},
     "output_type": "display_data"
    },
    {
     "data": {
      "text/html": [
       "<pre>| Iteration | Passes   | Elapsed Time | Training-max_error | Training-rmse |</pre>"
      ],
      "text/plain": [
       "| Iteration | Passes   | Elapsed Time | Training-max_error | Training-rmse |"
      ]
     },
     "metadata": {},
     "output_type": "display_data"
    },
    {
     "data": {
      "text/html": [
       "<pre>+-----------+----------+--------------+--------------------+---------------+</pre>"
      ],
      "text/plain": [
       "+-----------+----------+--------------+--------------------+---------------+"
      ]
     },
     "metadata": {},
     "output_type": "display_data"
    },
    {
     "data": {
      "text/html": [
       "<pre>| 1         | 2        | 0.000000     | 5431.079127        | 737.987961    |</pre>"
      ],
      "text/plain": [
       "| 1         | 2        | 0.000000     | 5431.079127        | 737.987961    |"
      ]
     },
     "metadata": {},
     "output_type": "display_data"
    },
    {
     "data": {
      "text/html": [
       "<pre>+-----------+----------+--------------+--------------------+---------------+</pre>"
      ],
      "text/plain": [
       "+-----------+----------+--------------+--------------------+---------------+"
      ]
     },
     "metadata": {},
     "output_type": "display_data"
    },
    {
     "data": {
      "text/html": [
       "<pre>SUCCESS: Optimal solution found.</pre>"
      ],
      "text/plain": [
       "SUCCESS: Optimal solution found."
      ]
     },
     "metadata": {},
     "output_type": "display_data"
    },
    {
     "data": {
      "text/html": [
       "<pre></pre>"
      ],
      "text/plain": []
     },
     "metadata": {},
     "output_type": "display_data"
    }
   ],
   "source": [
    "all_features_model = graphlab.linear_regression.create(train_data,target='Outflow (cusecs)',features=[\"Rainfall (mm)\",\"Inflow (cusecs)\", \n",
    "                                                                                                      \"Level (ft)\",\"Storage Mcft\", \"year\", \n",
    "                                                                                                      \"month\", \"day\"],validation_set=None)"
   ]
  },
  {
   "cell_type": "code",
   "execution_count": 36,
   "metadata": {
    "collapsed": false
   },
   "outputs": [
    {
     "name": "stdout",
     "output_type": "stream",
     "text": [
      "{'max_error': 8552.09367393052, 'rmse': 945.7044759574522}\n"
     ]
    }
   ],
   "source": [
    "print all_features_model.evaluate(test_data)"
   ]
  },
  {
   "cell_type": "code",
   "execution_count": 37,
   "metadata": {
    "collapsed": false
   },
   "outputs": [],
   "source": [
    "train_data,test_data = Damdata.random_split(.8,seed=0)"
   ]
  },
  {
   "cell_type": "code",
   "execution_count": 38,
   "metadata": {
    "collapsed": false
   },
   "outputs": [
    {
     "name": "stdout",
     "output_type": "stream",
     "text": [
      "{'max_error': 10546.926029058945, 'rmse': 1868.6393902574985}\n",
      "{'max_error': 8552.09367393052, 'rmse': 945.7044759574522}\n"
     ]
    }
   ],
   "source": [
    "print Rainfall_only_model.evaluate(test_data)\n",
    "print all_features_model.evaluate(test_data)"
   ]
  },
  {
   "cell_type": "markdown",
   "metadata": {},
   "source": []
  },
  {
   "cell_type": "markdown",
   "metadata": {},
   "source": [
    "RMSE has been brought down from 1868.64 to 945.70 with the inclusion of storage level and inflow features."
   ]
  },
  {
   "cell_type": "code",
   "execution_count": 39,
   "metadata": {
    "collapsed": true
   },
   "outputs": [],
   "source": [
    "current=Damdata[Damdata['year'=='2017']]"
   ]
  },
  {
   "cell_type": "code",
   "execution_count": 40,
   "metadata": {
    "collapsed": false
   },
   "outputs": [
    {
     "name": "stdout",
     "output_type": "stream",
     "text": [
      "[173.873406828891, 75.47336343564768, 141.07339236447658, 305.0734646865488, 1387.4739420122255, 1846.6741445140278, 5651.475822386104, 1781.0741155851988, 961.0737539748377, 75.47336343564768, 75.47336343564768, 239.47343575771993, 75.47336343564768, 75.47336343564768, 75.47336343564768, 75.47336343564768, 75.47336343564768, 75.47336343564768, 75.47336343564768, 75.47336343564768, 272.27345022213433, 2305.8743470158297, 1682.6740721919555, 829.87369611718, 862.6737105815944, 2305.8743470158297, 436.27352254420657, 75.47336343564768, 75.47336343564768, 75.47336343564768, 75.47336343564768, 141.07339236447658, 8439.477051861331, 1453.0739709410545, 108.27337790006213, 75.47336343564768, 75.47336343564768, 75.47336343564768, 75.47336343564768, 75.47336343564768, 173.873406828891, 206.67342129330547, 1321.8739130833965, 141.07339236447658, 75.47336343564768, 75.47336343564768, 75.47336343564768, 797.0736816527655, 1059.473797368081, 337.87347915096325, 141.07339236447658, 75.47336343564768, 75.47336343564768, 75.47336343564768, 75.47336343564768, 75.47336343564768, 75.47336343564768, 75.47336343564768, 75.47336343564768, 75.47336343564768, 75.47336343564768, 75.47336343564768, 75.47336343564768, 75.47336343564768, 75.47336343564768, 75.47336343564768, 75.47336343564768, 75.47336343564768, 75.47336343564768, 75.47336343564768, 75.47336343564768, 141.07339236447658, 75.47336343564768, 75.47336343564768, 75.47336343564768, 75.47336343564768, 239.47343575771993, 75.47336343564768, 75.47336343564768, 75.47336343564768, 75.47336343564768, 75.47336343564768, 1256.273884154568, 1321.8739130833965, 731.4736527239367, 75.47336343564768, 3125.874708626191, 4601.875359524842, 7816.276777037458, 1289.0738986189822, 961.0737539748377, 534.6735659374499, 141.07339236447658, 75.47336343564768, 75.47336343564768, 75.47336343564768, 75.47336343564768, 75.47336343564768, 75.47336343564768, 141.07339236447658, ... ]\n"
     ]
    }
   ],
   "source": [
    "print Rainfall_only_model.predict(current)"
   ]
  },
  {
   "cell_type": "code",
   "execution_count": 41,
   "metadata": {
    "collapsed": false
   },
   "outputs": [
    {
     "name": "stdout",
     "output_type": "stream",
     "text": [
      "[-46.24641640197797, -323.9981309048144, -217.93061946648686, -154.20993545339297, -211.45027394209546, 148.01339135256694, 3305.906901871944, 3585.44625988759, 3407.3075156070213, 2274.473490469026, 881.904674718613, 106.56814202942132, 140.80330041056868, -283.6762107600298, -277.8009819623694, -271.925753164709, -266.05052436704864, -260.17529556938825, -254.3698867645644, -248.3882084892739, -276.51514366050833, 293.6548847645354, 1214.6187470996783, 3412.3372109814227, 3412.5570491164062, 4249.522380590659, 2421.322672400609, 1951.4637735273886, 343.50872744408025, 349.38395624174063, -192.94736698314546, -198.3829195108383, 9137.687317776765, 12499.502381331535, 11660.600635410596, 5754.218493572218, 165.48210278252054, 1290.0736344958968, 606.5571953373214, 243.54918760721011, 756.6841033692817, 319.08093562589283, 1803.1503122447657, 4714.12570320838, 3655.5278739116247, 2048.23095929513, 978.3223486730221, 1456.7931740968797, 1463.885825669889, 625.7355658084166, 547.4845823627256, 589.9510767690763, 421.84166738222484, 184.66947859869697, 109.95620415318717, 115.93444345172475, 14.220987257319848, 20.096216054980232, 25.971444852640616, 31.846673650300545, 37.72190244796093, -95.09734998416934, -89.59469435821484, -46.36617899220255, -29.135217494751487, -23.73901134642756, -18.21976046645159, 0.21013261257030535, 5.729383492545821, 11.248634372521337, 4.033512523915306, -150.03409950927198, -283.4722483751493, 34.054188981813695, -10.886792606851486, 7.772594681453484, -2.0212408140914704, 56.81967512955907, 24.613066269475894, 68.0876710987909, 73.60692197876597, 79.42548706085927, 271.3814016099909, 621.8016589205204, 492.3793273078322, 275.5557494986256, 849.4562307289316, 4364.978329411355, 4933.194970977418, 7095.418599104217, 2574.20405864849, 1890.5611050416974, 565.6681511254096, 152.49942128016437, 158.46106532468184, 164.35288937636324, 170.22811817402317, 176.10334697168355, 181.96198051532292, -92.77435022593772, ... ]\n"
     ]
    }
   ],
   "source": [
    "print all_features_model.predict(current)"
   ]
  },
  {
   "cell_type": "code",
   "execution_count": 24,
   "metadata": {
    "collapsed": false
   },
   "outputs": [
    {
     "data": {
      "text/html": [
       "<div style=\"max-height:1000px;max-width:1500px;overflow:auto;\"><table frame=\"box\" rules=\"cols\">\n",
       "    <tr>\n",
       "        <th style=\"padding-left: 1em; padding-right: 1em; text-align: center\">Date</th>\n",
       "        <th style=\"padding-left: 1em; padding-right: 1em; text-align: center\">Reservoir</th>\n",
       "        <th style=\"padding-left: 1em; padding-right: 1em; text-align: center\">Full Tank Level (ft)</th>\n",
       "        <th style=\"padding-left: 1em; padding-right: 1em; text-align: center\">Full Capacity mcft</th>\n",
       "        <th style=\"padding-left: 1em; padding-right: 1em; text-align: center\">Level (ft)</th>\n",
       "        <th style=\"padding-left: 1em; padding-right: 1em; text-align: center\">Storage Mcft</th>\n",
       "        <th style=\"padding-left: 1em; padding-right: 1em; text-align: center\">Inflow (cusecs)</th>\n",
       "    </tr>\n",
       "    <tr>\n",
       "        <td style=\"padding-left: 1em; padding-right: 1em; text-align: center; vertical-align: top\">01-11-2005</td>\n",
       "        <td style=\"padding-left: 1em; padding-right: 1em; text-align: center; vertical-align: top\">CHEMBARAMBAKKAM</td>\n",
       "        <td style=\"padding-left: 1em; padding-right: 1em; text-align: center; vertical-align: top\">85.4</td>\n",
       "        <td style=\"padding-left: 1em; padding-right: 1em; text-align: center; vertical-align: top\">3645</td>\n",
       "        <td style=\"padding-left: 1em; padding-right: 1em; text-align: center; vertical-align: top\">74.8</td>\n",
       "        <td style=\"padding-left: 1em; padding-right: 1em; text-align: center; vertical-align: top\">1259</td>\n",
       "        <td style=\"padding-left: 1em; padding-right: 1em; text-align: center; vertical-align: top\">278</td>\n",
       "    </tr>\n",
       "    <tr>\n",
       "        <td style=\"padding-left: 1em; padding-right: 1em; text-align: center; vertical-align: top\">02-11-2005</td>\n",
       "        <td style=\"padding-left: 1em; padding-right: 1em; text-align: center; vertical-align: top\">CHEMBARAMBAKKAM</td>\n",
       "        <td style=\"padding-left: 1em; padding-right: 1em; text-align: center; vertical-align: top\">85.4</td>\n",
       "        <td style=\"padding-left: 1em; padding-right: 1em; text-align: center; vertical-align: top\">3645</td>\n",
       "        <td style=\"padding-left: 1em; padding-right: 1em; text-align: center; vertical-align: top\">74.85</td>\n",
       "        <td style=\"padding-left: 1em; padding-right: 1em; text-align: center; vertical-align: top\">1259</td>\n",
       "        <td style=\"padding-left: 1em; padding-right: 1em; text-align: center; vertical-align: top\">0</td>\n",
       "    </tr>\n",
       "    <tr>\n",
       "        <td style=\"padding-left: 1em; padding-right: 1em; text-align: center; vertical-align: top\">03-11-2005</td>\n",
       "        <td style=\"padding-left: 1em; padding-right: 1em; text-align: center; vertical-align: top\">CHEMBARAMBAKKAM</td>\n",
       "        <td style=\"padding-left: 1em; padding-right: 1em; text-align: center; vertical-align: top\">85.4</td>\n",
       "        <td style=\"padding-left: 1em; padding-right: 1em; text-align: center; vertical-align: top\">3645</td>\n",
       "        <td style=\"padding-left: 1em; padding-right: 1em; text-align: center; vertical-align: top\">74.9</td>\n",
       "        <td style=\"padding-left: 1em; padding-right: 1em; text-align: center; vertical-align: top\">1268</td>\n",
       "        <td style=\"padding-left: 1em; padding-right: 1em; text-align: center; vertical-align: top\">104</td>\n",
       "    </tr>\n",
       "    <tr>\n",
       "        <td style=\"padding-left: 1em; padding-right: 1em; text-align: center; vertical-align: top\">04-11-2005</td>\n",
       "        <td style=\"padding-left: 1em; padding-right: 1em; text-align: center; vertical-align: top\">CHEMBARAMBAKKAM</td>\n",
       "        <td style=\"padding-left: 1em; padding-right: 1em; text-align: center; vertical-align: top\">85.4</td>\n",
       "        <td style=\"padding-left: 1em; padding-right: 1em; text-align: center; vertical-align: top\">3645</td>\n",
       "        <td style=\"padding-left: 1em; padding-right: 1em; text-align: center; vertical-align: top\">75.0</td>\n",
       "        <td style=\"padding-left: 1em; padding-right: 1em; text-align: center; vertical-align: top\">1284</td>\n",
       "        <td style=\"padding-left: 1em; padding-right: 1em; text-align: center; vertical-align: top\">185</td>\n",
       "    </tr>\n",
       "    <tr>\n",
       "        <td style=\"padding-left: 1em; padding-right: 1em; text-align: center; vertical-align: top\">05-11-2005</td>\n",
       "        <td style=\"padding-left: 1em; padding-right: 1em; text-align: center; vertical-align: top\">CHEMBARAMBAKKAM</td>\n",
       "        <td style=\"padding-left: 1em; padding-right: 1em; text-align: center; vertical-align: top\">85.4</td>\n",
       "        <td style=\"padding-left: 1em; padding-right: 1em; text-align: center; vertical-align: top\">3645</td>\n",
       "        <td style=\"padding-left: 1em; padding-right: 1em; text-align: center; vertical-align: top\">75.15</td>\n",
       "        <td style=\"padding-left: 1em; padding-right: 1em; text-align: center; vertical-align: top\">1310</td>\n",
       "        <td style=\"padding-left: 1em; padding-right: 1em; text-align: center; vertical-align: top\">301</td>\n",
       "    </tr>\n",
       "    <tr>\n",
       "        <td style=\"padding-left: 1em; padding-right: 1em; text-align: center; vertical-align: top\">06-11-2005</td>\n",
       "        <td style=\"padding-left: 1em; padding-right: 1em; text-align: center; vertical-align: top\">CHEMBARAMBAKKAM</td>\n",
       "        <td style=\"padding-left: 1em; padding-right: 1em; text-align: center; vertical-align: top\">85.4</td>\n",
       "        <td style=\"padding-left: 1em; padding-right: 1em; text-align: center; vertical-align: top\">3645</td>\n",
       "        <td style=\"padding-left: 1em; padding-right: 1em; text-align: center; vertical-align: top\">75.5</td>\n",
       "        <td style=\"padding-left: 1em; padding-right: 1em; text-align: center; vertical-align: top\">1371</td>\n",
       "        <td style=\"padding-left: 1em; padding-right: 1em; text-align: center; vertical-align: top\">706</td>\n",
       "    </tr>\n",
       "    <tr>\n",
       "        <td style=\"padding-left: 1em; padding-right: 1em; text-align: center; vertical-align: top\">07-11-2005</td>\n",
       "        <td style=\"padding-left: 1em; padding-right: 1em; text-align: center; vertical-align: top\">CHEMBARAMBAKKAM</td>\n",
       "        <td style=\"padding-left: 1em; padding-right: 1em; text-align: center; vertical-align: top\">85.4</td>\n",
       "        <td style=\"padding-left: 1em; padding-right: 1em; text-align: center; vertical-align: top\">3645</td>\n",
       "        <td style=\"padding-left: 1em; padding-right: 1em; text-align: center; vertical-align: top\">77.5</td>\n",
       "        <td style=\"padding-left: 1em; padding-right: 1em; text-align: center; vertical-align: top\">1739</td>\n",
       "        <td style=\"padding-left: 1em; padding-right: 1em; text-align: center; vertical-align: top\">4259</td>\n",
       "    </tr>\n",
       "    <tr>\n",
       "        <td style=\"padding-left: 1em; padding-right: 1em; text-align: center; vertical-align: top\">08-11-2005</td>\n",
       "        <td style=\"padding-left: 1em; padding-right: 1em; text-align: center; vertical-align: top\">CHEMBARAMBAKKAM</td>\n",
       "        <td style=\"padding-left: 1em; padding-right: 1em; text-align: center; vertical-align: top\">85.4</td>\n",
       "        <td style=\"padding-left: 1em; padding-right: 1em; text-align: center; vertical-align: top\">3645</td>\n",
       "        <td style=\"padding-left: 1em; padding-right: 1em; text-align: center; vertical-align: top\">79.15</td>\n",
       "        <td style=\"padding-left: 1em; padding-right: 1em; text-align: center; vertical-align: top\">2080</td>\n",
       "        <td style=\"padding-left: 1em; padding-right: 1em; text-align: center; vertical-align: top\">3900</td>\n",
       "    </tr>\n",
       "    <tr>\n",
       "        <td style=\"padding-left: 1em; padding-right: 1em; text-align: center; vertical-align: top\">09-11-2005</td>\n",
       "        <td style=\"padding-left: 1em; padding-right: 1em; text-align: center; vertical-align: top\">CHEMBARAMBAKKAM</td>\n",
       "        <td style=\"padding-left: 1em; padding-right: 1em; text-align: center; vertical-align: top\">85.4</td>\n",
       "        <td style=\"padding-left: 1em; padding-right: 1em; text-align: center; vertical-align: top\">3645</td>\n",
       "        <td style=\"padding-left: 1em; padding-right: 1em; text-align: center; vertical-align: top\">80.5</td>\n",
       "        <td style=\"padding-left: 1em; padding-right: 1em; text-align: center; vertical-align: top\">2387</td>\n",
       "        <td style=\"padding-left: 1em; padding-right: 1em; text-align: center; vertical-align: top\">3600</td>\n",
       "    </tr>\n",
       "    <tr>\n",
       "        <td style=\"padding-left: 1em; padding-right: 1em; text-align: center; vertical-align: top\">10-11-2005</td>\n",
       "        <td style=\"padding-left: 1em; padding-right: 1em; text-align: center; vertical-align: top\">CHEMBARAMBAKKAM</td>\n",
       "        <td style=\"padding-left: 1em; padding-right: 1em; text-align: center; vertical-align: top\">85.4</td>\n",
       "        <td style=\"padding-left: 1em; padding-right: 1em; text-align: center; vertical-align: top\">3645</td>\n",
       "        <td style=\"padding-left: 1em; padding-right: 1em; text-align: center; vertical-align: top\">81.35</td>\n",
       "        <td style=\"padding-left: 1em; padding-right: 1em; text-align: center; vertical-align: top\">2591</td>\n",
       "        <td style=\"padding-left: 1em; padding-right: 1em; text-align: center; vertical-align: top\">2400</td>\n",
       "    </tr>\n",
       "</table>\n",
       "<table frame=\"box\" rules=\"cols\">\n",
       "    <tr>\n",
       "        <th style=\"padding-left: 1em; padding-right: 1em; text-align: center\">Outflow (cusecs)</th>\n",
       "        <th style=\"padding-left: 1em; padding-right: 1em; text-align: center\">Rainfall (mm)</th>\n",
       "        <th style=\"padding-left: 1em; padding-right: 1em; text-align: center\">Storage as on same day<br>last year (mcft) ...</th>\n",
       "        <th style=\"padding-left: 1em; padding-right: 1em; text-align: center\">date_obs</th>\n",
       "        <th style=\"padding-left: 1em; padding-right: 1em; text-align: center\">year</th>\n",
       "        <th style=\"padding-left: 1em; padding-right: 1em; text-align: center\">month</th>\n",
       "        <th style=\"padding-left: 1em; padding-right: 1em; text-align: center\">day</th>\n",
       "    </tr>\n",
       "    <tr>\n",
       "        <td style=\"padding-left: 1em; padding-right: 1em; text-align: center; vertical-align: top\">0</td>\n",
       "        <td style=\"padding-left: 1em; padding-right: 1em; text-align: center; vertical-align: top\">3</td>\n",
       "        <td style=\"padding-left: 1em; padding-right: 1em; text-align: center; vertical-align: top\">72</td>\n",
       "        <td style=\"padding-left: 1em; padding-right: 1em; text-align: center; vertical-align: top\">2005-11-01 00:00:00</td>\n",
       "        <td style=\"padding-left: 1em; padding-right: 1em; text-align: center; vertical-align: top\">2005</td>\n",
       "        <td style=\"padding-left: 1em; padding-right: 1em; text-align: center; vertical-align: top\">11</td>\n",
       "        <td style=\"padding-left: 1em; padding-right: 1em; text-align: center; vertical-align: top\">1</td>\n",
       "    </tr>\n",
       "    <tr>\n",
       "        <td style=\"padding-left: 1em; padding-right: 1em; text-align: center; vertical-align: top\">0</td>\n",
       "        <td style=\"padding-left: 1em; padding-right: 1em; text-align: center; vertical-align: top\">0</td>\n",
       "        <td style=\"padding-left: 1em; padding-right: 1em; text-align: center; vertical-align: top\">78</td>\n",
       "        <td style=\"padding-left: 1em; padding-right: 1em; text-align: center; vertical-align: top\">2005-11-02 00:00:00</td>\n",
       "        <td style=\"padding-left: 1em; padding-right: 1em; text-align: center; vertical-align: top\">2005</td>\n",
       "        <td style=\"padding-left: 1em; padding-right: 1em; text-align: center; vertical-align: top\">11</td>\n",
       "        <td style=\"padding-left: 1em; padding-right: 1em; text-align: center; vertical-align: top\">2</td>\n",
       "    </tr>\n",
       "    <tr>\n",
       "        <td style=\"padding-left: 1em; padding-right: 1em; text-align: center; vertical-align: top\">0</td>\n",
       "        <td style=\"padding-left: 1em; padding-right: 1em; text-align: center; vertical-align: top\">2</td>\n",
       "        <td style=\"padding-left: 1em; padding-right: 1em; text-align: center; vertical-align: top\">78</td>\n",
       "        <td style=\"padding-left: 1em; padding-right: 1em; text-align: center; vertical-align: top\">2005-11-03 00:00:00</td>\n",
       "        <td style=\"padding-left: 1em; padding-right: 1em; text-align: center; vertical-align: top\">2005</td>\n",
       "        <td style=\"padding-left: 1em; padding-right: 1em; text-align: center; vertical-align: top\">11</td>\n",
       "        <td style=\"padding-left: 1em; padding-right: 1em; text-align: center; vertical-align: top\">3</td>\n",
       "    </tr>\n",
       "    <tr>\n",
       "        <td style=\"padding-left: 1em; padding-right: 1em; text-align: center; vertical-align: top\">0</td>\n",
       "        <td style=\"padding-left: 1em; padding-right: 1em; text-align: center; vertical-align: top\">7</td>\n",
       "        <td style=\"padding-left: 1em; padding-right: 1em; text-align: center; vertical-align: top\">78</td>\n",
       "        <td style=\"padding-left: 1em; padding-right: 1em; text-align: center; vertical-align: top\">2005-11-04 00:00:00</td>\n",
       "        <td style=\"padding-left: 1em; padding-right: 1em; text-align: center; vertical-align: top\">2005</td>\n",
       "        <td style=\"padding-left: 1em; padding-right: 1em; text-align: center; vertical-align: top\">11</td>\n",
       "        <td style=\"padding-left: 1em; padding-right: 1em; text-align: center; vertical-align: top\">4</td>\n",
       "    </tr>\n",
       "    <tr>\n",
       "        <td style=\"padding-left: 1em; padding-right: 1em; text-align: center; vertical-align: top\">0</td>\n",
       "        <td style=\"padding-left: 1em; padding-right: 1em; text-align: center; vertical-align: top\">40</td>\n",
       "        <td style=\"padding-left: 1em; padding-right: 1em; text-align: center; vertical-align: top\">78</td>\n",
       "        <td style=\"padding-left: 1em; padding-right: 1em; text-align: center; vertical-align: top\">2005-11-05 00:00:00</td>\n",
       "        <td style=\"padding-left: 1em; padding-right: 1em; text-align: center; vertical-align: top\">2005</td>\n",
       "        <td style=\"padding-left: 1em; padding-right: 1em; text-align: center; vertical-align: top\">11</td>\n",
       "        <td style=\"padding-left: 1em; padding-right: 1em; text-align: center; vertical-align: top\">5</td>\n",
       "    </tr>\n",
       "    <tr>\n",
       "        <td style=\"padding-left: 1em; padding-right: 1em; text-align: center; vertical-align: top\">0</td>\n",
       "        <td style=\"padding-left: 1em; padding-right: 1em; text-align: center; vertical-align: top\">54</td>\n",
       "        <td style=\"padding-left: 1em; padding-right: 1em; text-align: center; vertical-align: top\">101</td>\n",
       "        <td style=\"padding-left: 1em; padding-right: 1em; text-align: center; vertical-align: top\">2005-11-06 00:00:00</td>\n",
       "        <td style=\"padding-left: 1em; padding-right: 1em; text-align: center; vertical-align: top\">2005</td>\n",
       "        <td style=\"padding-left: 1em; padding-right: 1em; text-align: center; vertical-align: top\">11</td>\n",
       "        <td style=\"padding-left: 1em; padding-right: 1em; text-align: center; vertical-align: top\">6</td>\n",
       "    </tr>\n",
       "    <tr>\n",
       "        <td style=\"padding-left: 1em; padding-right: 1em; text-align: center; vertical-align: top\">0</td>\n",
       "        <td style=\"padding-left: 1em; padding-right: 1em; text-align: center; vertical-align: top\">170</td>\n",
       "        <td style=\"padding-left: 1em; padding-right: 1em; text-align: center; vertical-align: top\">170</td>\n",
       "        <td style=\"padding-left: 1em; padding-right: 1em; text-align: center; vertical-align: top\">2005-11-07 00:00:00</td>\n",
       "        <td style=\"padding-left: 1em; padding-right: 1em; text-align: center; vertical-align: top\">2005</td>\n",
       "        <td style=\"padding-left: 1em; padding-right: 1em; text-align: center; vertical-align: top\">11</td>\n",
       "        <td style=\"padding-left: 1em; padding-right: 1em; text-align: center; vertical-align: top\">7</td>\n",
       "    </tr>\n",
       "    <tr>\n",
       "        <td style=\"padding-left: 1em; padding-right: 1em; text-align: center; vertical-align: top\">0</td>\n",
       "        <td style=\"padding-left: 1em; padding-right: 1em; text-align: center; vertical-align: top\">52</td>\n",
       "        <td style=\"padding-left: 1em; padding-right: 1em; text-align: center; vertical-align: top\">250</td>\n",
       "        <td style=\"padding-left: 1em; padding-right: 1em; text-align: center; vertical-align: top\">2005-11-08 00:00:00</td>\n",
       "        <td style=\"padding-left: 1em; padding-right: 1em; text-align: center; vertical-align: top\">2005</td>\n",
       "        <td style=\"padding-left: 1em; padding-right: 1em; text-align: center; vertical-align: top\">11</td>\n",
       "        <td style=\"padding-left: 1em; padding-right: 1em; text-align: center; vertical-align: top\">8</td>\n",
       "    </tr>\n",
       "    <tr>\n",
       "        <td style=\"padding-left: 1em; padding-right: 1em; text-align: center; vertical-align: top\">0</td>\n",
       "        <td style=\"padding-left: 1em; padding-right: 1em; text-align: center; vertical-align: top\">27</td>\n",
       "        <td style=\"padding-left: 1em; padding-right: 1em; text-align: center; vertical-align: top\">284</td>\n",
       "        <td style=\"padding-left: 1em; padding-right: 1em; text-align: center; vertical-align: top\">2005-11-09 00:00:00</td>\n",
       "        <td style=\"padding-left: 1em; padding-right: 1em; text-align: center; vertical-align: top\">2005</td>\n",
       "        <td style=\"padding-left: 1em; padding-right: 1em; text-align: center; vertical-align: top\">11</td>\n",
       "        <td style=\"padding-left: 1em; padding-right: 1em; text-align: center; vertical-align: top\">9</td>\n",
       "    </tr>\n",
       "    <tr>\n",
       "        <td style=\"padding-left: 1em; padding-right: 1em; text-align: center; vertical-align: top\">0</td>\n",
       "        <td style=\"padding-left: 1em; padding-right: 1em; text-align: center; vertical-align: top\">0</td>\n",
       "        <td style=\"padding-left: 1em; padding-right: 1em; text-align: center; vertical-align: top\">292</td>\n",
       "        <td style=\"padding-left: 1em; padding-right: 1em; text-align: center; vertical-align: top\">2005-11-10 00:00:00</td>\n",
       "        <td style=\"padding-left: 1em; padding-right: 1em; text-align: center; vertical-align: top\">2005</td>\n",
       "        <td style=\"padding-left: 1em; padding-right: 1em; text-align: center; vertical-align: top\">11</td>\n",
       "        <td style=\"padding-left: 1em; padding-right: 1em; text-align: center; vertical-align: top\">10</td>\n",
       "    </tr>\n",
       "</table>\n",
       "[10 rows x 14 columns]<br/>\n",
       "</div>"
      ],
      "text/plain": [
       "Columns:\n",
       "\tDate\tstr\n",
       "\tReservoir\tstr\n",
       "\tFull Tank Level (ft)\tfloat\n",
       "\tFull Capacity mcft\tint\n",
       "\tLevel (ft)\tfloat\n",
       "\tStorage Mcft\tint\n",
       "\tInflow (cusecs)\tint\n",
       "\tOutflow (cusecs)\tint\n",
       "\tRainfall (mm)\tint\n",
       "\tStorage as on same day last year (mcft)\tint\n",
       "\tdate_obs\tdatetime\n",
       "\tyear\tint\n",
       "\tmonth\tint\n",
       "\tday\tint\n",
       "\n",
       "Rows: 10\n",
       "\n",
       "Data:\n",
       "+------------+-----------------+----------------------+--------------------+\n",
       "|    Date    |    Reservoir    | Full Tank Level (ft) | Full Capacity mcft |\n",
       "+------------+-----------------+----------------------+--------------------+\n",
       "| 01-11-2005 | CHEMBARAMBAKKAM |         85.4         |        3645        |\n",
       "| 02-11-2005 | CHEMBARAMBAKKAM |         85.4         |        3645        |\n",
       "| 03-11-2005 | CHEMBARAMBAKKAM |         85.4         |        3645        |\n",
       "| 04-11-2005 | CHEMBARAMBAKKAM |         85.4         |        3645        |\n",
       "| 05-11-2005 | CHEMBARAMBAKKAM |         85.4         |        3645        |\n",
       "| 06-11-2005 | CHEMBARAMBAKKAM |         85.4         |        3645        |\n",
       "| 07-11-2005 | CHEMBARAMBAKKAM |         85.4         |        3645        |\n",
       "| 08-11-2005 | CHEMBARAMBAKKAM |         85.4         |        3645        |\n",
       "| 09-11-2005 | CHEMBARAMBAKKAM |         85.4         |        3645        |\n",
       "| 10-11-2005 | CHEMBARAMBAKKAM |         85.4         |        3645        |\n",
       "+------------+-----------------+----------------------+--------------------+\n",
       "+------------+--------------+-----------------+------------------+---------------+\n",
       "| Level (ft) | Storage Mcft | Inflow (cusecs) | Outflow (cusecs) | Rainfall (mm) |\n",
       "+------------+--------------+-----------------+------------------+---------------+\n",
       "|    74.8    |     1259     |       278       |        0         |       3       |\n",
       "|   74.85    |     1259     |        0        |        0         |       0       |\n",
       "|    74.9    |     1268     |       104       |        0         |       2       |\n",
       "|    75.0    |     1284     |       185       |        0         |       7       |\n",
       "|   75.15    |     1310     |       301       |        0         |       40      |\n",
       "|    75.5    |     1371     |       706       |        0         |       54      |\n",
       "|    77.5    |     1739     |       4259      |        0         |      170      |\n",
       "|   79.15    |     2080     |       3900      |        0         |       52      |\n",
       "|    80.5    |     2387     |       3600      |        0         |       27      |\n",
       "|   81.35    |     2591     |       2400      |        0         |       0       |\n",
       "+------------+--------------+-----------------+------------------+---------------+\n",
       "+-------------------------------+---------------------+------+-------+-----+\n",
       "| Storage as on same day las... |       date_obs      | year | month | day |\n",
       "+-------------------------------+---------------------+------+-------+-----+\n",
       "|               72              | 2005-11-01 00:00:00 | 2005 |   11  |  1  |\n",
       "|               78              | 2005-11-02 00:00:00 | 2005 |   11  |  2  |\n",
       "|               78              | 2005-11-03 00:00:00 | 2005 |   11  |  3  |\n",
       "|               78              | 2005-11-04 00:00:00 | 2005 |   11  |  4  |\n",
       "|               78              | 2005-11-05 00:00:00 | 2005 |   11  |  5  |\n",
       "|              101              | 2005-11-06 00:00:00 | 2005 |   11  |  6  |\n",
       "|              170              | 2005-11-07 00:00:00 | 2005 |   11  |  7  |\n",
       "|              250              | 2005-11-08 00:00:00 | 2005 |   11  |  8  |\n",
       "|              284              | 2005-11-09 00:00:00 | 2005 |   11  |  9  |\n",
       "|              292              | 2005-11-10 00:00:00 | 2005 |   11  |  10 |\n",
       "+-------------------------------+---------------------+------+-------+-----+\n",
       "[10 rows x 14 columns]"
      ]
     },
     "execution_count": 24,
     "metadata": {},
     "output_type": "execute_result"
    }
   ],
   "source": [
    "Damdata.head()"
   ]
  },
  {
   "cell_type": "code",
   "execution_count": 66,
   "metadata": {
    "collapsed": false
   },
   "outputs": [],
   "source": [
    "predict_dates = {'Date':[13-11-2017], \n",
    "              'Reservoir':['CHEMBARAMBAKKAM'], \n",
    "                 'Level (ft)':[76],\n",
    "              'Rainfall (mm)':[70], \n",
    "              'year':[2017],\n",
    "              'month':[11],\n",
    "                'day':[13],\n",
    "                'Inflow (cusecs)':[1000]}"
   ]
  },
  {
   "cell_type": "code",
   "execution_count": 67,
   "metadata": {
    "collapsed": false
   },
   "outputs": [
    {
     "name": "stdout",
     "output_type": "stream",
     "text": [
      "[2371.4743759446587]\n"
     ]
    }
   ],
   "source": [
    "print Rainfall_only_model.predict(graphlab.SFrame(predict_dates))"
   ]
  },
  {
   "cell_type": "code",
   "execution_count": 68,
   "metadata": {
    "collapsed": false
   },
   "outputs": [
    {
     "name": "stdout",
     "output_type": "stream",
     "text": [
      "[495.988338071013]\n"
     ]
    }
   ],
   "source": [
    "print all_features_model.predict(graphlab.SFrame(predict_dates))"
   ]
  },
  {
   "cell_type": "markdown",
   "metadata": {
    "collapsed": true
   },
   "source": []
  }
 ],
 "metadata": {
  "kernelspec": {
   "display_name": "Python 2",
   "language": "python",
   "name": "python2"
  },
  "language_info": {
   "codemirror_mode": {
    "name": "ipython",
    "version": 2
   },
   "file_extension": ".py",
   "mimetype": "text/x-python",
   "name": "python",
   "nbconvert_exporter": "python",
   "pygments_lexer": "ipython2",
   "version": "2.7.11"
  }
 },
 "nbformat": 4,
 "nbformat_minor": 0
}
